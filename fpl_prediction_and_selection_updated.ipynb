{
  "cells": [
    {
      "cell_type": "markdown",
      "metadata": {
        "id": "yozRM6ebM7Pi"
      },
      "source": [
        "# FPL Team Selection and Weekly prediction\n",
        "\n",
        "Recently I've been getting back into soccer Fantasy Premier League (FPL) again after trying it many years ago. The last I played it, I abandoned it mid-season as it was too much to keep with with - team news, player injuries, who's playing well and who's not, who's playing who... There are just too many moving parts and I had more important things to do (e.g. play FIFA).\n",
        "\n",
        "The new season has just started and I thought - why not offload all this thinking to an ML model to predict the player points each week, and also come up with an algorithm to determine which transfer(s) I should make each week? This notebook is the result of that.\n",
        "\n",
        "Unfortunately I couldn't get the model up in time before the start of the season. Either way, I will be using the 19/20 season to test/validate my model, and apply it to the current season thus far (starting from GW 5).\n",
        "\n",
        "\n",
        "## Acknowledgements\n",
        "\n",
        "- I obtained the data from `vaastav` at https://github.com/vaastav/Fantasy-Premier-League, which is a really rich source of well-organized player and gameweek data, dating back to the 15/17 season.\n",
        "- The team IDs were inconsistent across seasons, which is a pain, but fortunately `solpaul` has a nice file here that tracks the changes across seasons:  https://github.com/solpaul/fpl-prediction/blob/master/data/teams.csv\n",
        "- In terms of modeling, I drew inspiration from the following sources:\n",
        "    - https://medium.com/@sol.paul/how-to-win-at-fantasy-premier-league-using-data-part-1-forecasting-with-deep-learning-bf121f38643a#http://www.philipkalinda.com/ds9.html\n",
        "    - http://www.philipkalinda.com/ds9.html"
      ]
    },
    {
      "cell_type": "markdown",
      "metadata": {
        "id": "JnhTtxR7M7Pm"
      },
      "source": [
        "## Brief Intro\n",
        "\n",
        "The Fantasty Premier League (FPL) is a fantasy football (soccer) league in which you score points based on a player's real-life performance on the football pitch. In the current instantiation of the FPL (19/20):\n",
        "\n",
        "- \n",
        "\n",
        "![image.png](attachment:image.png)"
      ]
    },
    {
      "cell_type": "code",
      "source": [
        "!pip install pulp"
      ],
      "metadata": {
        "colab": {
          "base_uri": "https://localhost:8080/"
        },
        "id": "U0Qkz6-0PrR6",
        "outputId": "4d5bf619-bee6-4b31-980c-17004cd76cb5"
      },
      "execution_count": null,
      "outputs": [
        {
          "output_type": "stream",
          "name": "stdout",
          "text": [
            "Looking in indexes: https://pypi.org/simple, https://us-python.pkg.dev/colab-wheels/public/simple/\n",
            "Collecting pulp\n",
            "  Downloading PuLP-2.7.0-py3-none-any.whl (14.3 MB)\n",
            "\u001b[2K     \u001b[90m━━━━━━━━━━━━━━━━━━━━━━━━━━━━━━━━━━━━━━━━\u001b[0m \u001b[32m14.3/14.3 MB\u001b[0m \u001b[31m88.4 MB/s\u001b[0m eta \u001b[36m0:00:00\u001b[0m\n",
            "\u001b[?25hInstalling collected packages: pulp\n",
            "Successfully installed pulp-2.7.0\n"
          ]
        }
      ]
    },
    {
      "cell_type": "code",
      "source": [
        "!pip install unidecode"
      ],
      "metadata": {
        "colab": {
          "base_uri": "https://localhost:8080/"
        },
        "id": "92tqKwjqQilH",
        "outputId": "11ca911f-389d-48b8-a964-1b7e8d1c9f1c"
      },
      "execution_count": null,
      "outputs": [
        {
          "output_type": "stream",
          "name": "stdout",
          "text": [
            "Looking in indexes: https://pypi.org/simple, https://us-python.pkg.dev/colab-wheels/public/simple/\n",
            "Collecting unidecode\n",
            "  Downloading Unidecode-1.3.6-py3-none-any.whl (235 kB)\n",
            "\u001b[2K     \u001b[90m━━━━━━━━━━━━━━━━━━━━━━━━━━━━━━━━━━━━━━\u001b[0m \u001b[32m235.9/235.9 KB\u001b[0m \u001b[31m12.9 MB/s\u001b[0m eta \u001b[36m0:00:00\u001b[0m\n",
            "\u001b[?25hInstalling collected packages: unidecode\n",
            "Successfully installed unidecode-1.3.6\n"
          ]
        }
      ]
    },
    {
      "cell_type": "code",
      "execution_count": null,
      "metadata": {
        "trusted": true,
        "id": "_4RgOC3AM7Po"
      },
      "outputs": [],
      "source": [
        "import pandas as pd\n",
        "import numpy as np\n",
        "import pulp\n",
        "\n",
        "from sklearn.model_selection import train_test_split, GridSearchCV, RandomizedSearchCV, cross_val_score\n",
        "from sklearn.preprocessing import StandardScaler\n",
        "from sklearn.linear_model import LinearRegression, RidgeCV, LassoCV, ElasticNetCV\n",
        "from sklearn.metrics import mean_squared_error, make_scorer, r2_score\n",
        "from sklearn.ensemble import RandomForestRegressor\n",
        "from sklearn.tree import DecisionTreeRegressor\n",
        "\n",
        "import xgboost as xgb\n",
        "\n",
        "import matplotlib.pyplot as plt\n",
        "import seaborn as sns\n",
        "\n",
        "import os\n",
        "\n",
        "import scipy.stats as stats\n",
        "\n",
        "import unidecode"
      ]
    },
    {
      "cell_type": "code",
      "execution_count": null,
      "metadata": {
        "trusted": true,
        "id": "TlvgRhn8M7Pr"
      },
      "outputs": [],
      "source": [
        "## Read data\n",
        "\n",
        "# Players df contains the summary of player performance from each season\n",
        "# Each row represents one player\n",
        "\n",
        "## GWs df contains the information of each player for each gameweek\n",
        "## Each row represents a player's performance for a gameweek\n",
        "\n",
        "gws_1617_df = pd.read_csv('/content/merged_gw_1617.csv', encoding='latin')\n",
        "gws_1718_df = pd.read_csv('/content/merged_gw_1718.csv', encoding='latin')\n",
        "gws_1819_df = pd.read_csv('/content/merged_gw_1819.csv', encoding='latin')\n",
        "gws_1920_df = pd.read_csv('/content/merged_gw_1920.csv')\n",
        "\n",
        "players_1617_df = pd.read_csv('/content/players_raw_1617.csv')\n",
        "players_1718_df = pd.read_csv('/content/players_raw_1718.csv')\n",
        "players_1819_df = pd.read_csv('/content/players_raw_1819.csv')\n",
        "players_1920_df = pd.read_csv('/content/players_raw_1920.csv')\n",
        "\n",
        "team_codes_df = pd.read_csv('/content/master_team_list.csv')\n"
      ]
    },
    {
      "cell_type": "code",
      "execution_count": null,
      "metadata": {
        "trusted": true,
        "id": "wgzgiRQKM7Ps"
      },
      "outputs": [],
      "source": [
        "# Clean the headers to be used later\n",
        "team_codes_df.columns.values[2:] = team_codes_df.columns[2:].str.replace('team_', '')"
      ]
    },
    {
      "cell_type": "code",
      "source": [
        "team_codes_df.head()"
      ],
      "metadata": {
        "colab": {
          "base_uri": "https://localhost:8080/",
          "height": 206
        },
        "id": "n8EHnDkHX4Gc",
        "outputId": "a5b788b8-9057-4093-b41c-66e2262d6e3b"
      },
      "execution_count": null,
      "outputs": [
        {
          "output_type": "execute_result",
          "data": {
            "text/plain": [
              "    season  team            name\n",
              "0  2016-17     1         Arsenal\n",
              "1  2016-17     2     Bournemouth\n",
              "2  2016-17     3         Burnley\n",
              "3  2016-17     4         Chelsea\n",
              "4  2016-17     5  Crystal Palace"
            ],
            "text/html": [
              "\n",
              "  <div id=\"df-a0b53276-025c-490f-8c17-e24b4f4d0ec2\">\n",
              "    <div class=\"colab-df-container\">\n",
              "      <div>\n",
              "<style scoped>\n",
              "    .dataframe tbody tr th:only-of-type {\n",
              "        vertical-align: middle;\n",
              "    }\n",
              "\n",
              "    .dataframe tbody tr th {\n",
              "        vertical-align: top;\n",
              "    }\n",
              "\n",
              "    .dataframe thead th {\n",
              "        text-align: right;\n",
              "    }\n",
              "</style>\n",
              "<table border=\"1\" class=\"dataframe\">\n",
              "  <thead>\n",
              "    <tr style=\"text-align: right;\">\n",
              "      <th></th>\n",
              "      <th>season</th>\n",
              "      <th>team</th>\n",
              "      <th>name</th>\n",
              "    </tr>\n",
              "  </thead>\n",
              "  <tbody>\n",
              "    <tr>\n",
              "      <th>0</th>\n",
              "      <td>2016-17</td>\n",
              "      <td>1</td>\n",
              "      <td>Arsenal</td>\n",
              "    </tr>\n",
              "    <tr>\n",
              "      <th>1</th>\n",
              "      <td>2016-17</td>\n",
              "      <td>2</td>\n",
              "      <td>Bournemouth</td>\n",
              "    </tr>\n",
              "    <tr>\n",
              "      <th>2</th>\n",
              "      <td>2016-17</td>\n",
              "      <td>3</td>\n",
              "      <td>Burnley</td>\n",
              "    </tr>\n",
              "    <tr>\n",
              "      <th>3</th>\n",
              "      <td>2016-17</td>\n",
              "      <td>4</td>\n",
              "      <td>Chelsea</td>\n",
              "    </tr>\n",
              "    <tr>\n",
              "      <th>4</th>\n",
              "      <td>2016-17</td>\n",
              "      <td>5</td>\n",
              "      <td>Crystal Palace</td>\n",
              "    </tr>\n",
              "  </tbody>\n",
              "</table>\n",
              "</div>\n",
              "      <button class=\"colab-df-convert\" onclick=\"convertToInteractive('df-a0b53276-025c-490f-8c17-e24b4f4d0ec2')\"\n",
              "              title=\"Convert this dataframe to an interactive table.\"\n",
              "              style=\"display:none;\">\n",
              "        \n",
              "  <svg xmlns=\"http://www.w3.org/2000/svg\" height=\"24px\"viewBox=\"0 0 24 24\"\n",
              "       width=\"24px\">\n",
              "    <path d=\"M0 0h24v24H0V0z\" fill=\"none\"/>\n",
              "    <path d=\"M18.56 5.44l.94 2.06.94-2.06 2.06-.94-2.06-.94-.94-2.06-.94 2.06-2.06.94zm-11 1L8.5 8.5l.94-2.06 2.06-.94-2.06-.94L8.5 2.5l-.94 2.06-2.06.94zm10 10l.94 2.06.94-2.06 2.06-.94-2.06-.94-.94-2.06-.94 2.06-2.06.94z\"/><path d=\"M17.41 7.96l-1.37-1.37c-.4-.4-.92-.59-1.43-.59-.52 0-1.04.2-1.43.59L10.3 9.45l-7.72 7.72c-.78.78-.78 2.05 0 2.83L4 21.41c.39.39.9.59 1.41.59.51 0 1.02-.2 1.41-.59l7.78-7.78 2.81-2.81c.8-.78.8-2.07 0-2.86zM5.41 20L4 18.59l7.72-7.72 1.47 1.35L5.41 20z\"/>\n",
              "  </svg>\n",
              "      </button>\n",
              "      \n",
              "  <style>\n",
              "    .colab-df-container {\n",
              "      display:flex;\n",
              "      flex-wrap:wrap;\n",
              "      gap: 12px;\n",
              "    }\n",
              "\n",
              "    .colab-df-convert {\n",
              "      background-color: #E8F0FE;\n",
              "      border: none;\n",
              "      border-radius: 50%;\n",
              "      cursor: pointer;\n",
              "      display: none;\n",
              "      fill: #1967D2;\n",
              "      height: 32px;\n",
              "      padding: 0 0 0 0;\n",
              "      width: 32px;\n",
              "    }\n",
              "\n",
              "    .colab-df-convert:hover {\n",
              "      background-color: #E2EBFA;\n",
              "      box-shadow: 0px 1px 2px rgba(60, 64, 67, 0.3), 0px 1px 3px 1px rgba(60, 64, 67, 0.15);\n",
              "      fill: #174EA6;\n",
              "    }\n",
              "\n",
              "    [theme=dark] .colab-df-convert {\n",
              "      background-color: #3B4455;\n",
              "      fill: #D2E3FC;\n",
              "    }\n",
              "\n",
              "    [theme=dark] .colab-df-convert:hover {\n",
              "      background-color: #434B5C;\n",
              "      box-shadow: 0px 1px 3px 1px rgba(0, 0, 0, 0.15);\n",
              "      filter: drop-shadow(0px 1px 2px rgba(0, 0, 0, 0.3));\n",
              "      fill: #FFFFFF;\n",
              "    }\n",
              "  </style>\n",
              "\n",
              "      <script>\n",
              "        const buttonEl =\n",
              "          document.querySelector('#df-a0b53276-025c-490f-8c17-e24b4f4d0ec2 button.colab-df-convert');\n",
              "        buttonEl.style.display =\n",
              "          google.colab.kernel.accessAllowed ? 'block' : 'none';\n",
              "\n",
              "        async function convertToInteractive(key) {\n",
              "          const element = document.querySelector('#df-a0b53276-025c-490f-8c17-e24b4f4d0ec2');\n",
              "          const dataTable =\n",
              "            await google.colab.kernel.invokeFunction('convertToInteractive',\n",
              "                                                     [key], {});\n",
              "          if (!dataTable) return;\n",
              "\n",
              "          const docLinkHtml = 'Like what you see? Visit the ' +\n",
              "            '<a target=\"_blank\" href=https://colab.research.google.com/notebooks/data_table.ipynb>data table notebook</a>'\n",
              "            + ' to learn more about interactive tables.';\n",
              "          element.innerHTML = '';\n",
              "          dataTable['output_type'] = 'display_data';\n",
              "          await google.colab.output.renderOutput(dataTable, element);\n",
              "          const docLink = document.createElement('div');\n",
              "          docLink.innerHTML = docLinkHtml;\n",
              "          element.appendChild(docLink);\n",
              "        }\n",
              "      </script>\n",
              "    </div>\n",
              "  </div>\n",
              "  "
            ]
          },
          "metadata": {},
          "execution_count": 6
        }
      ]
    },
    {
      "cell_type": "code",
      "source": [
        "team_codes_df['season'] = np.where(team_codes_df['season'] == '2016-17', '1617', team_codes_df['season'])\n",
        "team_codes_df['season'] = np.where(team_codes_df['season'] == '2017-18', '1718', team_codes_df['season'])\n",
        "team_codes_df['season'] = np.where(team_codes_df['season'] == '2018-19', '1819', team_codes_df['season'])\n",
        "team_codes_df['season'] = np.where(team_codes_df['season'] == '2019-20', '1920', team_codes_df['season'])"
      ],
      "metadata": {
        "id": "ORqJV8KVcXfw"
      },
      "execution_count": null,
      "outputs": []
    },
    {
      "cell_type": "code",
      "source": [
        "team_codes_df.head()"
      ],
      "metadata": {
        "colab": {
          "base_uri": "https://localhost:8080/",
          "height": 206
        },
        "id": "n9UM-Rb5R5E-",
        "outputId": "08b766bd-7024-4e26-c26d-ef822d1cd6c8"
      },
      "execution_count": null,
      "outputs": [
        {
          "output_type": "execute_result",
          "data": {
            "text/plain": [
              "  season  team            name\n",
              "0   1617     1         Arsenal\n",
              "1   1617     2     Bournemouth\n",
              "2   1617     3         Burnley\n",
              "3   1617     4         Chelsea\n",
              "4   1617     5  Crystal Palace"
            ],
            "text/html": [
              "\n",
              "  <div id=\"df-6f649ccf-da00-46d2-8213-f027cb8060ea\">\n",
              "    <div class=\"colab-df-container\">\n",
              "      <div>\n",
              "<style scoped>\n",
              "    .dataframe tbody tr th:only-of-type {\n",
              "        vertical-align: middle;\n",
              "    }\n",
              "\n",
              "    .dataframe tbody tr th {\n",
              "        vertical-align: top;\n",
              "    }\n",
              "\n",
              "    .dataframe thead th {\n",
              "        text-align: right;\n",
              "    }\n",
              "</style>\n",
              "<table border=\"1\" class=\"dataframe\">\n",
              "  <thead>\n",
              "    <tr style=\"text-align: right;\">\n",
              "      <th></th>\n",
              "      <th>season</th>\n",
              "      <th>team</th>\n",
              "      <th>name</th>\n",
              "    </tr>\n",
              "  </thead>\n",
              "  <tbody>\n",
              "    <tr>\n",
              "      <th>0</th>\n",
              "      <td>1617</td>\n",
              "      <td>1</td>\n",
              "      <td>Arsenal</td>\n",
              "    </tr>\n",
              "    <tr>\n",
              "      <th>1</th>\n",
              "      <td>1617</td>\n",
              "      <td>2</td>\n",
              "      <td>Bournemouth</td>\n",
              "    </tr>\n",
              "    <tr>\n",
              "      <th>2</th>\n",
              "      <td>1617</td>\n",
              "      <td>3</td>\n",
              "      <td>Burnley</td>\n",
              "    </tr>\n",
              "    <tr>\n",
              "      <th>3</th>\n",
              "      <td>1617</td>\n",
              "      <td>4</td>\n",
              "      <td>Chelsea</td>\n",
              "    </tr>\n",
              "    <tr>\n",
              "      <th>4</th>\n",
              "      <td>1617</td>\n",
              "      <td>5</td>\n",
              "      <td>Crystal Palace</td>\n",
              "    </tr>\n",
              "  </tbody>\n",
              "</table>\n",
              "</div>\n",
              "      <button class=\"colab-df-convert\" onclick=\"convertToInteractive('df-6f649ccf-da00-46d2-8213-f027cb8060ea')\"\n",
              "              title=\"Convert this dataframe to an interactive table.\"\n",
              "              style=\"display:none;\">\n",
              "        \n",
              "  <svg xmlns=\"http://www.w3.org/2000/svg\" height=\"24px\"viewBox=\"0 0 24 24\"\n",
              "       width=\"24px\">\n",
              "    <path d=\"M0 0h24v24H0V0z\" fill=\"none\"/>\n",
              "    <path d=\"M18.56 5.44l.94 2.06.94-2.06 2.06-.94-2.06-.94-.94-2.06-.94 2.06-2.06.94zm-11 1L8.5 8.5l.94-2.06 2.06-.94-2.06-.94L8.5 2.5l-.94 2.06-2.06.94zm10 10l.94 2.06.94-2.06 2.06-.94-2.06-.94-.94-2.06-.94 2.06-2.06.94z\"/><path d=\"M17.41 7.96l-1.37-1.37c-.4-.4-.92-.59-1.43-.59-.52 0-1.04.2-1.43.59L10.3 9.45l-7.72 7.72c-.78.78-.78 2.05 0 2.83L4 21.41c.39.39.9.59 1.41.59.51 0 1.02-.2 1.41-.59l7.78-7.78 2.81-2.81c.8-.78.8-2.07 0-2.86zM5.41 20L4 18.59l7.72-7.72 1.47 1.35L5.41 20z\"/>\n",
              "  </svg>\n",
              "      </button>\n",
              "      \n",
              "  <style>\n",
              "    .colab-df-container {\n",
              "      display:flex;\n",
              "      flex-wrap:wrap;\n",
              "      gap: 12px;\n",
              "    }\n",
              "\n",
              "    .colab-df-convert {\n",
              "      background-color: #E8F0FE;\n",
              "      border: none;\n",
              "      border-radius: 50%;\n",
              "      cursor: pointer;\n",
              "      display: none;\n",
              "      fill: #1967D2;\n",
              "      height: 32px;\n",
              "      padding: 0 0 0 0;\n",
              "      width: 32px;\n",
              "    }\n",
              "\n",
              "    .colab-df-convert:hover {\n",
              "      background-color: #E2EBFA;\n",
              "      box-shadow: 0px 1px 2px rgba(60, 64, 67, 0.3), 0px 1px 3px 1px rgba(60, 64, 67, 0.15);\n",
              "      fill: #174EA6;\n",
              "    }\n",
              "\n",
              "    [theme=dark] .colab-df-convert {\n",
              "      background-color: #3B4455;\n",
              "      fill: #D2E3FC;\n",
              "    }\n",
              "\n",
              "    [theme=dark] .colab-df-convert:hover {\n",
              "      background-color: #434B5C;\n",
              "      box-shadow: 0px 1px 3px 1px rgba(0, 0, 0, 0.15);\n",
              "      filter: drop-shadow(0px 1px 2px rgba(0, 0, 0, 0.3));\n",
              "      fill: #FFFFFF;\n",
              "    }\n",
              "  </style>\n",
              "\n",
              "      <script>\n",
              "        const buttonEl =\n",
              "          document.querySelector('#df-6f649ccf-da00-46d2-8213-f027cb8060ea button.colab-df-convert');\n",
              "        buttonEl.style.display =\n",
              "          google.colab.kernel.accessAllowed ? 'block' : 'none';\n",
              "\n",
              "        async function convertToInteractive(key) {\n",
              "          const element = document.querySelector('#df-6f649ccf-da00-46d2-8213-f027cb8060ea');\n",
              "          const dataTable =\n",
              "            await google.colab.kernel.invokeFunction('convertToInteractive',\n",
              "                                                     [key], {});\n",
              "          if (!dataTable) return;\n",
              "\n",
              "          const docLinkHtml = 'Like what you see? Visit the ' +\n",
              "            '<a target=\"_blank\" href=https://colab.research.google.com/notebooks/data_table.ipynb>data table notebook</a>'\n",
              "            + ' to learn more about interactive tables.';\n",
              "          element.innerHTML = '';\n",
              "          dataTable['output_type'] = 'display_data';\n",
              "          await google.colab.output.renderOutput(dataTable, element);\n",
              "          const docLink = document.createElement('div');\n",
              "          docLink.innerHTML = docLinkHtml;\n",
              "          element.appendChild(docLink);\n",
              "        }\n",
              "      </script>\n",
              "    </div>\n",
              "  </div>\n",
              "  "
            ]
          },
          "metadata": {},
          "execution_count": 8
        }
      ]
    },
    {
      "cell_type": "code",
      "source": [
        "for s, group in team_codes_df.groupby('season'):\n",
        "  print(\"This is s : \", s)"
      ],
      "metadata": {
        "colab": {
          "base_uri": "https://localhost:8080/"
        },
        "id": "NaKbKD1sSFJZ",
        "outputId": "c8324809-8b32-445c-cac6-aef4d5c68a44"
      },
      "execution_count": null,
      "outputs": [
        {
          "output_type": "stream",
          "name": "stdout",
          "text": [
            "This is s :  1617\n",
            "This is s :  1718\n",
            "This is s :  1819\n",
            "This is s :  1920\n",
            "This is s :  2020-21\n",
            "This is s :  2021-22\n"
          ]
        }
      ]
    },
    {
      "cell_type": "code",
      "source": [
        "team_codes_dict = team_codes_df.pivot(index='team', columns='season', values='name').to_dict()"
      ],
      "metadata": {
        "id": "dFw3sIsgbc0d"
      },
      "execution_count": null,
      "outputs": []
    },
    {
      "cell_type": "markdown",
      "metadata": {
        "id": "iMJ3tXA7M7Pt"
      },
      "source": [
        "## Clean and process dataframes\n",
        "\n",
        "\n",
        "For both types of dataframes, I want to add:\n",
        "- Player position\n",
        "- Full name (since the names are inconsistent across seasons and between dataframes)\n",
        "\n",
        "\n",
        "\n",
        "Also, it turns out that there are 2 Danny Wards in the 18/19 season. I am still thinking of a good way to represent both. But, since the are both fringe players in that season (total of 0 points between them), I will remove them for now (sorry!)\n",
        "\n",
        "\n"
      ]
    },
    {
      "cell_type": "code",
      "execution_count": null,
      "metadata": {
        "trusted": true,
        "id": "IfrhaVsxM7Pt"
      },
      "outputs": [],
      "source": [
        "# remove Danny Wards from 18/19 season\n",
        "players_1819_df = players_1819_df[((players_1819_df.first_name == \"Danny\") & (players_1819_df.second_name==\"Ward\"))==False]\n",
        "gws_1819_df = gws_1819_df[gws_1819_df.name.str.contains(\"Danny_Ward\")==False]"
      ]
    },
    {
      "cell_type": "code",
      "execution_count": null,
      "metadata": {
        "trusted": true,
        "id": "ofFlVnKjM7Pu"
      },
      "outputs": [],
      "source": [
        "player_df_list = [players_1617_df, players_1718_df, players_1819_df, players_1920_df]\n",
        "gw_df_list = [gws_1617_df, gws_1718_df, gws_1819_df, gws_1920_df]"
      ]
    },
    {
      "cell_type": "code",
      "execution_count": null,
      "metadata": {
        "trusted": true,
        "id": "vMSEACtUM7Pv",
        "colab": {
          "base_uri": "https://localhost:8080/"
        },
        "outputId": "182dbce6-a9ce-43b8-d351-14a1c81fc08e"
      },
      "outputs": [
        {
          "output_type": "stream",
          "name": "stderr",
          "text": [
            "<ipython-input-13-d95885c6c8c8>:8: SettingWithCopyWarning: \n",
            "A value is trying to be set on a copy of a slice from a DataFrame.\n",
            "Try using .loc[row_indexer,col_indexer] = value instead\n",
            "\n",
            "See the caveats in the documentation: https://pandas.pydata.org/pandas-docs/stable/user_guide/indexing.html#returning-a-view-versus-a-copy\n",
            "  player_df_list[i]['season'] = seasons[i]\n",
            "<ipython-input-13-d95885c6c8c8>:9: SettingWithCopyWarning: \n",
            "A value is trying to be set on a copy of a slice from a DataFrame.\n",
            "Try using .loc[row_indexer,col_indexer] = value instead\n",
            "\n",
            "See the caveats in the documentation: https://pandas.pydata.org/pandas-docs/stable/user_guide/indexing.html#returning-a-view-versus-a-copy\n",
            "  gw_df_list[i]['season'] = seasons[i]\n",
            "<ipython-input-13-d95885c6c8c8>:11: SettingWithCopyWarning: \n",
            "A value is trying to be set on a copy of a slice from a DataFrame.\n",
            "Try using .loc[row_indexer,col_indexer] = value instead\n",
            "\n",
            "See the caveats in the documentation: https://pandas.pydata.org/pandas-docs/stable/user_guide/indexing.html#returning-a-view-versus-a-copy\n",
            "  player_df_list[i]['season_num'] = season_nums[i]\n",
            "<ipython-input-13-d95885c6c8c8>:12: SettingWithCopyWarning: \n",
            "A value is trying to be set on a copy of a slice from a DataFrame.\n",
            "Try using .loc[row_indexer,col_indexer] = value instead\n",
            "\n",
            "See the caveats in the documentation: https://pandas.pydata.org/pandas-docs/stable/user_guide/indexing.html#returning-a-view-versus-a-copy\n",
            "  gw_df_list[i]['season_num'] = season_nums[i]\n"
          ]
        }
      ],
      "source": [
        "# append season and season index to dfs\n",
        "\n",
        "seasons = ['1617', '1718', '1819', '1920']\n",
        "season_nums = list(range(len(seasons)))\n",
        "\n",
        "for i in range(len(seasons)):\n",
        "    \n",
        "    player_df_list[i]['season'] = seasons[i]\n",
        "    gw_df_list[i]['season'] = seasons[i]\n",
        "    \n",
        "    player_df_list[i]['season_num'] = season_nums[i]\n",
        "    gw_df_list[i]['season_num'] = season_nums[i]"
      ]
    },
    {
      "cell_type": "code",
      "execution_count": null,
      "metadata": {
        "trusted": true,
        "id": "Dz7MkzU9M7Pw"
      },
      "outputs": [],
      "source": [
        "# combine dataframes from all seasons into one\n",
        "\n",
        "players_df = pd.concat(player_df_list)\n",
        "gws_df = pd.concat(gw_df_list)\n",
        "\n",
        "players_df.reset_index(inplace=True)\n",
        "gws_df.reset_index(inplace=True)"
      ]
    },
    {
      "cell_type": "code",
      "execution_count": null,
      "metadata": {
        "trusted": true,
        "id": "fxr6DnZwM7Px"
      },
      "outputs": [],
      "source": [
        "## Get full name\n",
        "# Cleans up accents and also makes processing easier\n",
        "\n",
        "def get_full_name_playerdf(first_name, second_name):\n",
        "    full_name = first_name +'_' + second_name\n",
        "    full_name = full_name.replace(\" \", \"_\")\n",
        "    full_name = full_name.replace(\"-\", \"_\")\n",
        "    full_name = unidecode.unidecode(full_name)\n",
        "    \n",
        "    return full_name\n",
        "\n"
      ]
    },
    {
      "cell_type": "code",
      "execution_count": null,
      "metadata": {
        "trusted": true,
        "colab": {
          "base_uri": "https://localhost:8080/"
        },
        "id": "blRKMW0TM7Px",
        "outputId": "ea3cc3c6-9f74-43de-8138-ba3886367293"
      },
      "outputs": [
        {
          "output_type": "stream",
          "name": "stderr",
          "text": [
            "<ipython-input-16-2edbc75b9cf8>:19: FutureWarning: The default value of regex will change from True to False in a future version.\n",
            "  gws_df['full_name'] = gws_df.name.str.replace('_\\d+','')\n",
            "<ipython-input-16-2edbc75b9cf8>:20: FutureWarning: The default value of regex will change from True to False in a future version.\n",
            "  gws_df['full_name'] = gws_df['full_name'].str.replace(\" \", \"_\").str.replace(\"-\", \"_\").str.replace('_\\d+','')\n"
          ]
        }
      ],
      "source": [
        "# Translate player positions into string for easier readability\n",
        "\n",
        "positions_dict = {\n",
        "    1: 'Keeper',\n",
        "    2: 'Defender',\n",
        "    3: 'Midfielder',\n",
        "    4: 'Forward'\n",
        "    \n",
        "}\n",
        "\n",
        "\n",
        "players_df['full_name'] = players_df.apply(lambda x: get_full_name_playerdf(x.first_name, x.second_name), axis=1).str.lower()\n",
        "players_df['position'] = players_df.element_type.map(positions_dict)\n",
        "players_df['starting_cost'] = players_df.now_cost - players_df.cost_change_start_fall\n",
        "players_df['cost_bin'] = players_df.now_cost.apply(lambda x: np.floor(x/10))\n",
        "\n",
        "\n",
        "\n",
        "gws_df['full_name'] = gws_df.name.str.replace('_\\d+','')\n",
        "gws_df['full_name'] = gws_df['full_name'].str.replace(\" \", \"_\").str.replace(\"-\", \"_\").str.replace('_\\d+','')\n",
        "gws_df['full_name'] = gws_df['full_name'].apply(lambda x: unidecode.unidecode(x))\n",
        "gws_df['full_name'] = gws_df['full_name'].str.lower()\n"
      ]
    },
    {
      "cell_type": "code",
      "execution_count": null,
      "metadata": {
        "trusted": true,
        "id": "XypNn11cM7Px"
      },
      "outputs": [],
      "source": [
        "    \n",
        "def clean_gw_df(player_df, gw_df, team_codes_df):\n",
        "    \n",
        "    # Returns a df with player position, player's team name, and opponent's team name\n",
        "    \n",
        "    pdf = player_df.copy()[['full_name', 'season', 'position', 'player_team_name']]\n",
        "    gdf = gw_df.copy()\n",
        "    \n",
        "    gdf = gdf.merge(pdf, on=['full_name', 'season'], how='left')\n",
        "    \n",
        "    \n",
        "    dfs = []\n",
        "    for s, group in gdf.groupby('season'):\n",
        "\n",
        "        temp_code_df = team_codes_df[['team', s]]\n",
        "        temp_code_df = temp_code_df.dropna()\n",
        "        \n",
        "        group = group[['opponent_team']]\n",
        "        group['opponent_team_name'] = group.opponent_team.map(temp_code_df.set_index(s).team)\n",
        "        dfs.append(group[['opponent_team_name']])\n",
        "        \n",
        "    out_df = pd.concat(dfs, axis=0)\n",
        "    out_df = pd.concat([gdf, out_df], axis=1)\n",
        "\n",
        "    return out_df\n",
        "\n"
      ]
    },
    {
      "cell_type": "code",
      "source": [
        "print(sorted(players_df.columns))"
      ],
      "metadata": {
        "colab": {
          "base_uri": "https://localhost:8080/"
        },
        "id": "ft7Im1ZEYLx7",
        "outputId": "655dac73-d911-4590-b63d-869f169deecf"
      },
      "execution_count": null,
      "outputs": [
        {
          "output_type": "stream",
          "name": "stdout",
          "text": [
            "['assists', 'bonus', 'bps', 'chance_of_playing_next_round', 'chance_of_playing_this_round', 'clean_sheets', 'code', 'cost_bin', 'cost_change_event', 'cost_change_event_fall', 'cost_change_start', 'cost_change_start_fall', 'creativity', 'creativity_rank', 'creativity_rank_type', 'dreamteam_count', 'ea_index', 'element_type', 'ep_next', 'ep_this', 'event_points', 'first_name', 'form', 'full_name', 'goals_conceded', 'goals_scored', 'ict_index', 'ict_index_rank', 'ict_index_rank_type', 'id', 'in_dreamteam', 'index', 'influence', 'influence_rank', 'influence_rank_type', 'loaned_in', 'loaned_out', 'loans_in', 'loans_out', 'minutes', 'news', 'news_added', 'now_cost', 'own_goals', 'penalties_missed', 'penalties_saved', 'photo', 'points_per_game', 'position', 'red_cards', 'saves', 'season', 'season_num', 'second_name', 'selected_by_percent', 'special', 'squad_number', 'starting_cost', 'status', 'team', 'team_code', 'threat', 'threat_rank', 'threat_rank_type', 'total_points', 'transfers_in', 'transfers_in_event', 'transfers_out', 'transfers_out_event', 'value_form', 'value_season', 'web_name', 'yellow_cards']\n"
          ]
        }
      ]
    },
    {
      "cell_type": "code",
      "source": [
        "players_df['team']\n",
        "#team_codes_dict"
      ],
      "metadata": {
        "colab": {
          "base_uri": "https://localhost:8080/"
        },
        "id": "5DsltIefYsfz",
        "outputId": "6e9197fa-26a7-4a28-a860-ec289e7e3fb9"
      },
      "execution_count": null,
      "outputs": [
        {
          "output_type": "execute_result",
          "data": {
            "text/plain": [
              "0        1\n",
              "1        1\n",
              "2        1\n",
              "3        1\n",
              "4        1\n",
              "        ..\n",
              "2613    20\n",
              "2614    20\n",
              "2615    20\n",
              "2616    20\n",
              "2617    20\n",
              "Name: team, Length: 2618, dtype: int64"
            ]
          },
          "metadata": {},
          "execution_count": 19
        }
      ]
    },
    {
      "cell_type": "code",
      "execution_count": null,
      "metadata": {
        "trusted": true,
        "colab": {
          "base_uri": "https://localhost:8080/",
          "height": 350
        },
        "id": "D2vBwFBbM7Py",
        "outputId": "d927c43a-2ba5-4795-8e47-1029fd030b4b"
      },
      "outputs": [
        {
          "output_type": "stream",
          "name": "stderr",
          "text": [
            "<ipython-input-22-79908ecbc2c1>:8: SettingWithCopyWarning: \n",
            "A value is trying to be set on a copy of a slice from a DataFrame\n",
            "\n",
            "See the caveats in the documentation: https://pandas.pydata.org/pandas-docs/stable/user_guide/indexing.html#returning-a-view-versus-a-copy\n",
            "  players_df['player_team_name'].iloc[index] = team_codes_dict[row['season']][row['team']]\n"
          ]
        },
        {
          "output_type": "stream",
          "name": "stdout",
          "text": [
            "0       Arsenal\n",
            "1       Arsenal\n",
            "2       Arsenal\n",
            "3       Arsenal\n",
            "4       Arsenal\n",
            "         ...   \n",
            "2613     Wolves\n",
            "2614     Wolves\n",
            "2615     Wolves\n",
            "2616     Wolves\n",
            "2617     Wolves\n",
            "Name: player_team_name, Length: 2618, dtype: object\n"
          ]
        },
        {
          "output_type": "execute_result",
          "data": {
            "text/plain": [
              "'gws_df = clean_gw_df(players_df, gws_df, team_codes_df)'"
            ],
            "application/vnd.google.colaboratory.intrinsic+json": {
              "type": "string"
            }
          },
          "metadata": {},
          "execution_count": 22
        }
      ],
      "source": [
        "gws_df.opponent_team = gws_df.opponent_team.astype(float)\n",
        "#players_df['player_team_name'] = players_df.team_code.map(team_codes_df.set_index('team').name)\n",
        "\n",
        "players_df['player_team_name'] = \" \"\n",
        "\n",
        "for index, row in players_df.iterrows():\n",
        "  try:\n",
        "    players_df['player_team_name'].iloc[index] = team_codes_dict[row['season']][row['team']]\n",
        "  except:\n",
        "    print(index)\n",
        "\n",
        "#print(players_df['player_team_name'])\n",
        "\n",
        "\"\"\"gws_df = clean_gw_df(players_df, gws_df, team_codes_df)\"\"\"\n",
        "\n",
        "#players_df.info()"
      ]
    },
    {
      "cell_type": "code",
      "source": [
        "\"\"\"for s, group in team_codes_df.groupby('season'):\n",
        "  print(len(group['opponent_team']))\"\"\"\n",
        "print(gdf['season'])"
      ],
      "metadata": {
        "colab": {
          "base_uri": "https://localhost:8080/"
        },
        "id": "7Ktm0fsh--Qm",
        "outputId": "142b7599-ae5e-48a1-d647-ccf5e7eae784"
      },
      "execution_count": null,
      "outputs": [
        {
          "output_type": "stream",
          "name": "stdout",
          "text": [
            "0        1617\n",
            "1        1617\n",
            "2        1617\n",
            "3        1617\n",
            "4        1617\n",
            "         ... \n",
            "90415    1920\n",
            "90416    1920\n",
            "90417    1920\n",
            "90418    1920\n",
            "90419    1920\n",
            "Name: season, Length: 90420, dtype: object\n"
          ]
        }
      ]
    },
    {
      "cell_type": "code",
      "source": [
        "pdf = players_df.copy()[['full_name', 'season', 'position', 'player_team_name']]\n",
        "gdf = gws_df.copy()\n",
        "    \n",
        "gdf = gdf.merge(pdf, on=['full_name', 'season'], how='left')\n",
        "dfs = []\n",
        "\n",
        "ctr = 0\n",
        "#temp_code_df = team_codes_df[['team', s]]\n",
        "\"\"\"temp_code_df = team_codes_df[team_codes_df['season'] == s]\n",
        "temp_code_df = temp_code_df.dropna()\"\"\"\n",
        "\n",
        "#print(len(group['opponent_team']))\n",
        "#group = gdf[['opponent_team', 'season']]\n",
        "\n",
        "gdf['opponent_team_name'] = \" \"\n",
        "for index, row in gdf.iterrows():\n",
        "    gdf['opponent_team_name'].iloc[index] = team_codes_dict[row['season']][row['opponent_team']]\n",
        "  \n",
        "#group['opponent_team_name'] = group.opponent_team.map(temp_code_df.set_index(s).name)\n",
        "#out_df = pd.concat(dfs, axis=0)\n",
        "#out_df = pd.concat([gdf, out_df], axis=1)\n",
        "#gdf.info()\n",
        "\n",
        "gws_df = gdf"
      ],
      "metadata": {
        "colab": {
          "base_uri": "https://localhost:8080/"
        },
        "id": "MrCvA9xBQq3i",
        "outputId": "2aa7d02b-f6b7-4470-d8f2-cd05e69032b8"
      },
      "execution_count": null,
      "outputs": [
        {
          "output_type": "stream",
          "name": "stderr",
          "text": [
            "<ipython-input-23-45ede5d34d37>:17: SettingWithCopyWarning: \n",
            "A value is trying to be set on a copy of a slice from a DataFrame\n",
            "\n",
            "See the caveats in the documentation: https://pandas.pydata.org/pandas-docs/stable/user_guide/indexing.html#returning-a-view-versus-a-copy\n",
            "  gdf['opponent_team_name'].iloc[index] = team_codes_dict[row['season']][row['opponent_team']]\n"
          ]
        },
        {
          "output_type": "stream",
          "name": "stdout",
          "text": [
            "<class 'pandas.core.frame.DataFrame'>\n",
            "Int64Index: 90420 entries, 0 to 90419\n",
            "Data columns (total 63 columns):\n",
            " #   Column                           Non-Null Count  Dtype  \n",
            "---  ------                           --------------  -----  \n",
            " 0   index                            90420 non-null  int64  \n",
            " 1   name                             90420 non-null  object \n",
            " 2   assists                          90420 non-null  int64  \n",
            " 3   attempted_passes                 67860 non-null  float64\n",
            " 4   big_chances_created              67860 non-null  float64\n",
            " 5   big_chances_missed               67860 non-null  float64\n",
            " 6   bonus                            90420 non-null  int64  \n",
            " 7   bps                              90420 non-null  int64  \n",
            " 8   clean_sheets                     90420 non-null  int64  \n",
            " 9   clearances_blocks_interceptions  67860 non-null  float64\n",
            " 10  completed_passes                 67860 non-null  float64\n",
            " 11  creativity                       90420 non-null  float64\n",
            " 12  dribbles                         67860 non-null  float64\n",
            " 13  ea_index                         67860 non-null  float64\n",
            " 14  element                          90420 non-null  int64  \n",
            " 15  errors_leading_to_goal           67860 non-null  float64\n",
            " 16  errors_leading_to_goal_attempt   67860 non-null  float64\n",
            " 17  fixture                          90420 non-null  int64  \n",
            " 18  fouls                            67860 non-null  float64\n",
            " 19  goals_conceded                   90420 non-null  int64  \n",
            " 20  goals_scored                     90420 non-null  int64  \n",
            " 21  ict_index                        90420 non-null  float64\n",
            " 22  id                               67860 non-null  float64\n",
            " 23  influence                        90420 non-null  float64\n",
            " 24  key_passes                       67860 non-null  float64\n",
            " 25  kickoff_time                     90420 non-null  object \n",
            " 26  kickoff_time_formatted           67860 non-null  object \n",
            " 27  loaned_in                        67860 non-null  float64\n",
            " 28  loaned_out                       67860 non-null  float64\n",
            " 29  minutes                          90420 non-null  int64  \n",
            " 30  offside                          67860 non-null  float64\n",
            " 31  open_play_crosses                67860 non-null  float64\n",
            " 32  opponent_team                    90420 non-null  float64\n",
            " 33  own_goals                        90420 non-null  int64  \n",
            " 34  penalties_conceded               67860 non-null  float64\n",
            " 35  penalties_missed                 90420 non-null  int64  \n",
            " 36  penalties_saved                  90420 non-null  int64  \n",
            " 37  recoveries                       67860 non-null  float64\n",
            " 38  red_cards                        90420 non-null  int64  \n",
            " 39  round                            90420 non-null  int64  \n",
            " 40  saves                            90420 non-null  int64  \n",
            " 41  selected                         90420 non-null  int64  \n",
            " 42  tackled                          67860 non-null  float64\n",
            " 43  tackles                          67860 non-null  float64\n",
            " 44  target_missed                    67860 non-null  float64\n",
            " 45  team_a_score                     90361 non-null  float64\n",
            " 46  team_h_score                     90361 non-null  float64\n",
            " 47  threat                           90420 non-null  float64\n",
            " 48  total_points                     90420 non-null  int64  \n",
            " 49  transfers_balance                90420 non-null  int64  \n",
            " 50  transfers_in                     90420 non-null  int64  \n",
            " 51  transfers_out                    90420 non-null  int64  \n",
            " 52  value                            90420 non-null  int64  \n",
            " 53  was_home                         90420 non-null  bool   \n",
            " 54  winning_goals                    67860 non-null  float64\n",
            " 55  yellow_cards                     90420 non-null  int64  \n",
            " 56  GW                               90420 non-null  int64  \n",
            " 57  season                           90420 non-null  object \n",
            " 58  season_num                       90420 non-null  int64  \n",
            " 59  full_name                        90420 non-null  object \n",
            " 60  position                         90420 non-null  object \n",
            " 61  player_team_name                 90420 non-null  object \n",
            " 62  opponent_team_name               90420 non-null  object \n",
            "dtypes: bool(1), float64(29), int64(25), object(8)\n",
            "memory usage: 43.5+ MB\n"
          ]
        }
      ]
    },
    {
      "cell_type": "code",
      "source": [
        "gdf[\"opponent_team_name\"]"
      ],
      "metadata": {
        "colab": {
          "base_uri": "https://localhost:8080/"
        },
        "id": "w_6pXuo-WiCt",
        "outputId": "0d083941-efa5-4703-d376-d742cc658c0c"
      },
      "execution_count": null,
      "outputs": [
        {
          "output_type": "execute_result",
          "data": {
            "text/plain": [
              "0            Chelsea\n",
              "1              Spurs\n",
              "2          Liverpool\n",
              "3        Southampton\n",
              "4           West Ham\n",
              "            ...     \n",
              "90415        Man Utd\n",
              "90416        Burnley\n",
              "90417        Watford\n",
              "90418        Man Utd\n",
              "90419       West Ham\n",
              "Name: opponent_team_name, Length: 90420, dtype: object"
            ]
          },
          "metadata": {},
          "execution_count": 24
        }
      ]
    },
    {
      "cell_type": "markdown",
      "metadata": {
        "id": "Xr7CtCFDM7Py"
      },
      "source": [
        "# Approach\n",
        "\n",
        "To get the initial team, I will rely on a simple method of picking the players with the most points based on last season.\n",
        "\n",
        "A brief recap on the current the FPL rules:\n",
        "\n",
        "1. A team must have 15 players\n",
        "2. A team must have:\n",
        "   - 2 Goalkeepers\n",
        "   - 5 Defenders\n",
        "   - 5 Midfielders\n",
        "   - 3 Forwards\n",
        "3. The total value of the initial squad must not exceed 100 million\n",
        "4. There can only be a maximum of 3 players from a single team\n",
        "5. Only the starting 11 will gain points for the FPL team\n",
        "6. A captain's score is doubled. \n",
        "7. Each gameweek, one free transfer is allowed. Each additional transfer will cost 4 points (not money!) \n",
        "\n",
        "Due to the complexity of the FPL mechanism, I have chosen to focus only on the above rules for now. There are also other rules that I plan on incorporating into my model:\n",
        "\n",
        "8. If a player in the starting 11 is unavailable (due to injury or suspension etc.), they will be substituted by the first player on the bench.\n",
        "9. If the captain is unavailable, the vice-captain's score is doubled instead.\n",
        "10. If the free transfer each week is not used, it can be carried over to the next Gameweek (for a maximum of 2 free transfers for a given Gameweek).\n",
        "11. There are a number of wildcards that can boost the points obtained in a Gameweek\n",
        "\n",
        "\n",
        "I will first use a linear programming approach to optimize the initial team. Then, I will build a regression model to forecast the predicted points for each player for each Gameweek, and use a heuristic-based algorithm to determine the best transfer (if any) to make for each Gameweek.\n"
      ]
    },
    {
      "cell_type": "markdown",
      "metadata": {
        "id": "pvLIjM54M7Pz"
      },
      "source": [
        "## Picking the initial team of 15 players\n",
        "\n",
        "I decided to go with the simple approach of using the performance of players in the previous season (18/19) as the basis of selection into the team. Using linear programming, I will optimize for the maximum number of points scored in the 18/19 season, with the following constraints:\n",
        "\n",
        "- Total budget of 1000 \n",
        "- 1 keeper\n",
        "- 4 defenders\n",
        "- 4 midfielders\n",
        "- 2 forwards\n",
        "- not more than 3 players from the same team\n",
        "\n",
        "Since benched players do not contribute to Gameweek points, I will first pick the 4 cheapest players (1 from each position) in order to maximize the amount of money I can use for the starting 11. To do this, I simply\n",
        "\n",
        "Since I am using the 19/20 season as the test set, I will use the 18/19 season to pick my initial team."
      ]
    },
    {
      "cell_type": "markdown",
      "metadata": {
        "id": "n4pC1c1SM7Pz"
      },
      "source": [
        "First, let's get the players who are available in the current season. This is necessary because some players would have been relegated/promoted after the previous season, and also because players would have been transferred between clubs (of different leagues)."
      ]
    },
    {
      "cell_type": "code",
      "execution_count": null,
      "metadata": {
        "trusted": true,
        "id": "Ja8unIkLM7Pz"
      },
      "outputs": [],
      "source": [
        "def make_available_players_df(this_season_player_df, last_season_player_df):\n",
        "    \n",
        "    \n",
        "    last_season_player_df = last_season_player_df[last_season_player_df.minutes > 0]\n",
        "    last_season_player_df = last_season_player_df[['full_name', \"total_points\"]]\n",
        "    last_season_player_df.rename(columns={'total_points': \"total_points_last_season\"},\n",
        "                                inplace=True)\n",
        "    \n",
        "    available_players_df = pd.merge(this_season_player_df,\n",
        "                                    last_season_player_df,\n",
        "                                   on='full_name', how='left')\n",
        "    \n",
        "    available_players_df.total_points_last_season = available_players_df.groupby(['position', 'cost_bin']).total_points_last_season.transform(lambda x: x.fillna(x.mean()))\n",
        "    \n",
        "    return available_players_df"
      ]
    },
    {
      "cell_type": "code",
      "execution_count": null,
      "metadata": {
        "trusted": true,
        "id": "qO9Md0EIM7P0"
      },
      "outputs": [],
      "source": [
        "current_season_player_df = players_df[players_df.season=='1920'] \n",
        "previous_season_player_df = players_df[players_df.season=='1819'] \n",
        "\n",
        "available_players_df = make_available_players_df(current_season_player_df, previous_season_player_df)\n",
        "\n",
        "available_players_df.to_csv('available_players_df_1920.csv')"
      ]
    },
    {
      "cell_type": "code",
      "source": [
        "available_players_df.columns"
      ],
      "metadata": {
        "id": "O4F01Tf5dAbW",
        "outputId": "7098d9bf-5f82-4044-ef8c-666e5a8ed9ac",
        "colab": {
          "base_uri": "https://localhost:8080/"
        }
      },
      "execution_count": null,
      "outputs": [
        {
          "output_type": "execute_result",
          "data": {
            "text/plain": [
              "Index(['index', 'assists', 'bonus', 'bps', 'chance_of_playing_next_round',\n",
              "       'chance_of_playing_this_round', 'clean_sheets', 'code',\n",
              "       'cost_change_event', 'cost_change_event_fall', 'cost_change_start',\n",
              "       'cost_change_start_fall', 'creativity', 'dreamteam_count', 'ea_index',\n",
              "       'element_type', 'ep_next', 'ep_this', 'event_points', 'first_name',\n",
              "       'form', 'goals_conceded', 'goals_scored', 'ict_index', 'id',\n",
              "       'in_dreamteam', 'influence', 'loaned_in', 'loaned_out', 'loans_in',\n",
              "       'loans_out', 'minutes', 'news', 'now_cost', 'own_goals',\n",
              "       'penalties_missed', 'penalties_saved', 'photo', 'points_per_game',\n",
              "       'red_cards', 'saves', 'second_name', 'selected_by_percent', 'special',\n",
              "       'squad_number', 'status', 'team', 'team_code', 'threat', 'total_points',\n",
              "       'transfers_in', 'transfers_in_event', 'transfers_out',\n",
              "       'transfers_out_event', 'value_form', 'value_season', 'web_name',\n",
              "       'yellow_cards', 'season', 'season_num', 'news_added', 'creativity_rank',\n",
              "       'creativity_rank_type', 'ict_index_rank', 'ict_index_rank_type',\n",
              "       'influence_rank', 'influence_rank_type', 'threat_rank',\n",
              "       'threat_rank_type', 'full_name', 'position', 'starting_cost',\n",
              "       'cost_bin', 'player_team_name', 'total_points_last_season'],\n",
              "      dtype='object')"
            ]
          },
          "metadata": {},
          "execution_count": 78
        }
      ]
    },
    {
      "cell_type": "code",
      "execution_count": null,
      "metadata": {
        "trusted": true,
        "id": "jxC0B13AM7P0"
      },
      "outputs": [],
      "source": [
        "def get_cheapest_players(player_df):\n",
        "    \n",
        "    cheapest_player_names = []\n",
        "    total_cost = 0\n",
        "    \n",
        "    # for each position, sort the players by cost (in ascending order)\n",
        "    # then, get the player with the most number of points\n",
        "    \n",
        "    for position, group in player_df.groupby('position'):\n",
        "        cheapest_players =  group[(group.starting_cost == group.starting_cost.min())]\n",
        "        top_cheapest_player = cheapest_players[cheapest_players.total_points == cheapest_players.total_points.max()]\n",
        "        \n",
        "        cheapest_player_name = top_cheapest_player.full_name.values[0]\n",
        "        \n",
        "        cheapest_player_names += [cheapest_player_name]\n",
        "        total_cost += top_cheapest_player.starting_cost.values[0]\n",
        "        \n",
        "        print(position, \": \", cheapest_player_name )\n",
        "    print(\"The total cost of the bench is : \", total_cost, '.') \n",
        "    return cheapest_player_names, total_cost"
      ]
    },
    {
      "cell_type": "code",
      "execution_count": null,
      "metadata": {
        "trusted": true,
        "colab": {
          "base_uri": "https://localhost:8080/"
        },
        "id": "51ZgkX2fM7P1",
        "outputId": "d6a551e6-7a57-4bca-f621-eb5731f787c2"
      },
      "outputs": [
        {
          "output_type": "stream",
          "name": "stdout",
          "text": [
            "Defender :  daryl_janmaat\n",
            "Forward :  lys_mousset\n",
            "Keeper :  darren_randolph\n",
            "Midfielder :  matteo_guendouzi\n"
          ]
        }
      ],
      "source": [
        "bench_players, bench_cost = get_cheapest_players(available_players_df)"
      ]
    },
    {
      "cell_type": "markdown",
      "metadata": {
        "id": "cFiD9CQxM7P1"
      },
      "source": [
        "### Optimizing for starting 11\n",
        "\n",
        "Now that I have my bench players, I'll go ahead and optimize for the starting 11. Again, here I am using the actual results of the previous season. The reasoning here is that, at least for the first Gameweek, the players who are most likely to perform well are the players who have performed well in the last season (in the absence of other information). Of course, one can also try to predict the total number of points a player will score in the current season, but in the absence of any information about the current season, I am doubtful that the prediction will be meaningful or fare better than this simple heuristic. This is something that I am planning to look into soon!\n",
        "\n",
        "First, a bunch of helper functions to make life easier:"
      ]
    },
    {
      "cell_type": "code",
      "execution_count": null,
      "metadata": {
        "trusted": true,
        "id": "Pu32YeaIM7P1"
      },
      "outputs": [],
      "source": [
        "def make_decision_variables(player_df):\n",
        "    return [pulp.LpVariable(i, cat=\"Binary\") for i in player_df.full_name]"
      ]
    },
    {
      "cell_type": "code",
      "execution_count": null,
      "metadata": {
        "trusted": true,
        "id": "jSo0zgrpM7P2"
      },
      "outputs": [],
      "source": [
        "def make_optimization_function(player_df, decision_variables):\n",
        "    op_func = \"\"\n",
        "\n",
        "    for i, player in enumerate(decision_variables):\n",
        "        op_func += player_df.total_points_last_season[i]*player\n",
        "        \n",
        "    return op_func"
      ]
    },
    {
      "cell_type": "code",
      "execution_count": null,
      "metadata": {
        "trusted": true,
        "id": "RcewTaofM7P2"
      },
      "outputs": [],
      "source": [
        "def make_cash_constraint(player_df, decision_variables, available_cash):\n",
        "    total_paid = \"\"\n",
        "    for rownum, row in player_df.iterrows():\n",
        "        for i, player in enumerate(decision_variables):\n",
        "            if rownum == i:\n",
        "                formula = row['starting_cost']*player\n",
        "                total_paid += formula\n",
        "\n",
        "    return (total_paid <= available_cash)"
      ]
    },
    {
      "cell_type": "code",
      "execution_count": null,
      "metadata": {
        "trusted": true,
        "id": "x5MMEmpIM7P2"
      },
      "outputs": [],
      "source": [
        "def make_player_constraint(position, n, decision_variables, player_df):\n",
        "    \n",
        "    total_n = \"\"\n",
        "    \n",
        "    player_positions = player_df.position\n",
        "    \n",
        "    for i, player in enumerate(decision_variables):\n",
        "        if player_positions[i] == position:\n",
        "            total_n += 1*player\n",
        "            \n",
        "    return(total_n == n)"
      ]
    },
    {
      "cell_type": "code",
      "execution_count": null,
      "metadata": {
        "trusted": true,
        "id": "tCN2zutrM7P3"
      },
      "outputs": [],
      "source": [
        "def add_team_constraint(prob, player_df, decision_variables):\n",
        "\n",
        "    for team, group in player_df.groupby('team_code'):\n",
        "        team_total = ''\n",
        "        \n",
        "        for player in decision_variables:\n",
        "            if player.name in group.full_name.values:\n",
        "                formula = 1*player\n",
        "                team_total += formula\n",
        "                \n",
        "        \n",
        "        prob += (team_total <= 3)"
      ]
    },
    {
      "cell_type": "code",
      "execution_count": null,
      "metadata": {
        "trusted": true,
        "id": "hRLl4PhhM7P3"
      },
      "outputs": [],
      "source": [
        "available_cash = 1000 - bench_cost\n",
        "\n",
        "prob = pulp.LpProblem('InitialTeam', pulp.LpMaximize)\n",
        "\n",
        "decision_variables = make_decision_variables(available_players_df)\n",
        "prob += make_optimization_function(available_players_df, decision_variables)\n",
        "prob += make_cash_constraint(available_players_df, decision_variables, available_cash)\n",
        "prob += make_player_constraint(\"Keeper\", 1, decision_variables, available_players_df) \n",
        "prob += make_player_constraint(\"Defender\", 4, decision_variables, available_players_df) \n",
        "prob += make_player_constraint(\"Midfielder\", 4, decision_variables, available_players_df) \n",
        "prob += make_player_constraint(\"Forward\", 2, decision_variables, available_players_df)\n",
        "\n",
        "add_team_constraint(prob, available_players_df, decision_variables)"
      ]
    },
    {
      "cell_type": "code",
      "execution_count": null,
      "metadata": {
        "trusted": true,
        "id": "h10EpvXtM7P3"
      },
      "outputs": [],
      "source": [
        "## Solve\n",
        "\n",
        "prob.writeLP('InitialTeam.lp')\n",
        "optimization_result = prob.solve()\n"
      ]
    },
    {
      "cell_type": "code",
      "execution_count": null,
      "metadata": {
        "trusted": true,
        "id": "NYywTqJBM7P3"
      },
      "outputs": [],
      "source": [
        "## Get initial team\n",
        "\n",
        "def get_initial_team(prob, player_df):\n",
        "    \n",
        "    variable_names = [v.name for v in prob.variables()]\n",
        "    variable_values = [v.varValue for v in prob.variables()]\n",
        "\n",
        "    initial_team = pd.merge(pd.DataFrame({'full_name': variable_names,\n",
        "                  'selected': variable_values}),\n",
        "                                       player_df, on=\"full_name\")\n",
        "    \n",
        "    initial_team = initial_team[initial_team.selected==1.0] \n",
        "    \n",
        "    return initial_team\n",
        "\n",
        "    "
      ]
    },
    {
      "cell_type": "code",
      "execution_count": null,
      "metadata": {
        "trusted": true,
        "colab": {
          "base_uri": "https://localhost:8080/",
          "height": 394
        },
        "id": "_LBvBq43M7P4",
        "outputId": "be5a1fa5-59cb-48c6-eb3e-af0b9c2a6690"
      },
      "outputs": [
        {
          "output_type": "execute_result",
          "data": {
            "text/plain": [
              "                      full_name    position  starting_cost player_team_name\n",
              "43             andrew_robertson    Defender             70        Liverpool\n",
              "69              aymeric_laporte    Defender             61         Man City\n",
              "107               callum_wilson     Forward             68      Bournemouth\n",
              "163  david_luiz_moreira_marinho    Defender             54          Arsenal\n",
              "243            gylfi_sigurdsson  Midfielder             66          Everton\n",
              "343             jordan_pickford      Keeper             49          Everton\n",
              "474               mohamed_salah  Midfielder            125        Liverpool\n",
              "535   pierre_emerick_aubameyang     Forward            108          Arsenal\n",
              "540             raheem_sterling  Midfielder            120         Man City\n",
              "572                 ryan_fraser  Midfielder             61      Bournemouth\n",
              "644             virgil_van_dijk    Defender             65        Liverpool"
            ],
            "text/html": [
              "\n",
              "  <div id=\"df-f0070f47-e515-4a51-b986-1125faa737a5\">\n",
              "    <div class=\"colab-df-container\">\n",
              "      <div>\n",
              "<style scoped>\n",
              "    .dataframe tbody tr th:only-of-type {\n",
              "        vertical-align: middle;\n",
              "    }\n",
              "\n",
              "    .dataframe tbody tr th {\n",
              "        vertical-align: top;\n",
              "    }\n",
              "\n",
              "    .dataframe thead th {\n",
              "        text-align: right;\n",
              "    }\n",
              "</style>\n",
              "<table border=\"1\" class=\"dataframe\">\n",
              "  <thead>\n",
              "    <tr style=\"text-align: right;\">\n",
              "      <th></th>\n",
              "      <th>full_name</th>\n",
              "      <th>position</th>\n",
              "      <th>starting_cost</th>\n",
              "      <th>player_team_name</th>\n",
              "    </tr>\n",
              "  </thead>\n",
              "  <tbody>\n",
              "    <tr>\n",
              "      <th>43</th>\n",
              "      <td>andrew_robertson</td>\n",
              "      <td>Defender</td>\n",
              "      <td>70</td>\n",
              "      <td>Liverpool</td>\n",
              "    </tr>\n",
              "    <tr>\n",
              "      <th>69</th>\n",
              "      <td>aymeric_laporte</td>\n",
              "      <td>Defender</td>\n",
              "      <td>61</td>\n",
              "      <td>Man City</td>\n",
              "    </tr>\n",
              "    <tr>\n",
              "      <th>107</th>\n",
              "      <td>callum_wilson</td>\n",
              "      <td>Forward</td>\n",
              "      <td>68</td>\n",
              "      <td>Bournemouth</td>\n",
              "    </tr>\n",
              "    <tr>\n",
              "      <th>163</th>\n",
              "      <td>david_luiz_moreira_marinho</td>\n",
              "      <td>Defender</td>\n",
              "      <td>54</td>\n",
              "      <td>Arsenal</td>\n",
              "    </tr>\n",
              "    <tr>\n",
              "      <th>243</th>\n",
              "      <td>gylfi_sigurdsson</td>\n",
              "      <td>Midfielder</td>\n",
              "      <td>66</td>\n",
              "      <td>Everton</td>\n",
              "    </tr>\n",
              "    <tr>\n",
              "      <th>343</th>\n",
              "      <td>jordan_pickford</td>\n",
              "      <td>Keeper</td>\n",
              "      <td>49</td>\n",
              "      <td>Everton</td>\n",
              "    </tr>\n",
              "    <tr>\n",
              "      <th>474</th>\n",
              "      <td>mohamed_salah</td>\n",
              "      <td>Midfielder</td>\n",
              "      <td>125</td>\n",
              "      <td>Liverpool</td>\n",
              "    </tr>\n",
              "    <tr>\n",
              "      <th>535</th>\n",
              "      <td>pierre_emerick_aubameyang</td>\n",
              "      <td>Forward</td>\n",
              "      <td>108</td>\n",
              "      <td>Arsenal</td>\n",
              "    </tr>\n",
              "    <tr>\n",
              "      <th>540</th>\n",
              "      <td>raheem_sterling</td>\n",
              "      <td>Midfielder</td>\n",
              "      <td>120</td>\n",
              "      <td>Man City</td>\n",
              "    </tr>\n",
              "    <tr>\n",
              "      <th>572</th>\n",
              "      <td>ryan_fraser</td>\n",
              "      <td>Midfielder</td>\n",
              "      <td>61</td>\n",
              "      <td>Bournemouth</td>\n",
              "    </tr>\n",
              "    <tr>\n",
              "      <th>644</th>\n",
              "      <td>virgil_van_dijk</td>\n",
              "      <td>Defender</td>\n",
              "      <td>65</td>\n",
              "      <td>Liverpool</td>\n",
              "    </tr>\n",
              "  </tbody>\n",
              "</table>\n",
              "</div>\n",
              "      <button class=\"colab-df-convert\" onclick=\"convertToInteractive('df-f0070f47-e515-4a51-b986-1125faa737a5')\"\n",
              "              title=\"Convert this dataframe to an interactive table.\"\n",
              "              style=\"display:none;\">\n",
              "        \n",
              "  <svg xmlns=\"http://www.w3.org/2000/svg\" height=\"24px\"viewBox=\"0 0 24 24\"\n",
              "       width=\"24px\">\n",
              "    <path d=\"M0 0h24v24H0V0z\" fill=\"none\"/>\n",
              "    <path d=\"M18.56 5.44l.94 2.06.94-2.06 2.06-.94-2.06-.94-.94-2.06-.94 2.06-2.06.94zm-11 1L8.5 8.5l.94-2.06 2.06-.94-2.06-.94L8.5 2.5l-.94 2.06-2.06.94zm10 10l.94 2.06.94-2.06 2.06-.94-2.06-.94-.94-2.06-.94 2.06-2.06.94z\"/><path d=\"M17.41 7.96l-1.37-1.37c-.4-.4-.92-.59-1.43-.59-.52 0-1.04.2-1.43.59L10.3 9.45l-7.72 7.72c-.78.78-.78 2.05 0 2.83L4 21.41c.39.39.9.59 1.41.59.51 0 1.02-.2 1.41-.59l7.78-7.78 2.81-2.81c.8-.78.8-2.07 0-2.86zM5.41 20L4 18.59l7.72-7.72 1.47 1.35L5.41 20z\"/>\n",
              "  </svg>\n",
              "      </button>\n",
              "      \n",
              "  <style>\n",
              "    .colab-df-container {\n",
              "      display:flex;\n",
              "      flex-wrap:wrap;\n",
              "      gap: 12px;\n",
              "    }\n",
              "\n",
              "    .colab-df-convert {\n",
              "      background-color: #E8F0FE;\n",
              "      border: none;\n",
              "      border-radius: 50%;\n",
              "      cursor: pointer;\n",
              "      display: none;\n",
              "      fill: #1967D2;\n",
              "      height: 32px;\n",
              "      padding: 0 0 0 0;\n",
              "      width: 32px;\n",
              "    }\n",
              "\n",
              "    .colab-df-convert:hover {\n",
              "      background-color: #E2EBFA;\n",
              "      box-shadow: 0px 1px 2px rgba(60, 64, 67, 0.3), 0px 1px 3px 1px rgba(60, 64, 67, 0.15);\n",
              "      fill: #174EA6;\n",
              "    }\n",
              "\n",
              "    [theme=dark] .colab-df-convert {\n",
              "      background-color: #3B4455;\n",
              "      fill: #D2E3FC;\n",
              "    }\n",
              "\n",
              "    [theme=dark] .colab-df-convert:hover {\n",
              "      background-color: #434B5C;\n",
              "      box-shadow: 0px 1px 3px 1px rgba(0, 0, 0, 0.15);\n",
              "      filter: drop-shadow(0px 1px 2px rgba(0, 0, 0, 0.3));\n",
              "      fill: #FFFFFF;\n",
              "    }\n",
              "  </style>\n",
              "\n",
              "      <script>\n",
              "        const buttonEl =\n",
              "          document.querySelector('#df-f0070f47-e515-4a51-b986-1125faa737a5 button.colab-df-convert');\n",
              "        buttonEl.style.display =\n",
              "          google.colab.kernel.accessAllowed ? 'block' : 'none';\n",
              "\n",
              "        async function convertToInteractive(key) {\n",
              "          const element = document.querySelector('#df-f0070f47-e515-4a51-b986-1125faa737a5');\n",
              "          const dataTable =\n",
              "            await google.colab.kernel.invokeFunction('convertToInteractive',\n",
              "                                                     [key], {});\n",
              "          if (!dataTable) return;\n",
              "\n",
              "          const docLinkHtml = 'Like what you see? Visit the ' +\n",
              "            '<a target=\"_blank\" href=https://colab.research.google.com/notebooks/data_table.ipynb>data table notebook</a>'\n",
              "            + ' to learn more about interactive tables.';\n",
              "          element.innerHTML = '';\n",
              "          dataTable['output_type'] = 'display_data';\n",
              "          await google.colab.output.renderOutput(dataTable, element);\n",
              "          const docLink = document.createElement('div');\n",
              "          docLink.innerHTML = docLinkHtml;\n",
              "          element.appendChild(docLink);\n",
              "        }\n",
              "      </script>\n",
              "    </div>\n",
              "  </div>\n",
              "  "
            ]
          },
          "metadata": {},
          "execution_count": 37
        }
      ],
      "source": [
        "initial_team_df = get_initial_team(prob, available_players_df)\n",
        "initial_team_df[['full_name', \"position\", \"starting_cost\", \"player_team_name\"]]"
      ]
    },
    {
      "cell_type": "code",
      "execution_count": null,
      "metadata": {
        "trusted": true,
        "id": "rdCYB2AOM7P4"
      },
      "outputs": [],
      "source": [
        "## Sanity check\n",
        "\n",
        "def sanity_check(team_df):\n",
        "    print('Sanity check for starting 11: ')\n",
        "    print('*'*88) \n",
        "    \n",
        "    print('Number of players in each position: ')\n",
        "    for pos, group in team_df.groupby('position'):\n",
        "        print(pos, ': ', len(group), sep='')\n",
        "        \n",
        "    \n",
        "    print('*'*88)   \n",
        "    print('Number of players from each team: ')\n",
        "    print(team_df.groupby('player_team_name').position.count())\n",
        "    \n",
        "    print('*'*88)    \n",
        "    print('Total cost:', team_df.starting_cost.sum())\n",
        "    \n"
      ]
    },
    {
      "cell_type": "code",
      "execution_count": null,
      "metadata": {
        "trusted": true,
        "colab": {
          "base_uri": "https://localhost:8080/"
        },
        "id": "S_iuL6eOM7P4",
        "outputId": "4e129cbe-906a-42f7-f8b0-3874cbc37b48"
      },
      "outputs": [
        {
          "output_type": "stream",
          "name": "stdout",
          "text": [
            "Sanity check for starting 11: \n",
            "****************************************************************************************\n",
            "Number of players in each position: \n",
            "Defender: 4\n",
            "Forward: 2\n",
            "Keeper: 1\n",
            "Midfielder: 4\n",
            "****************************************************************************************\n",
            "Number of players from each team: \n",
            "player_team_name\n",
            "Arsenal        2\n",
            "Bournemouth    2\n",
            "Everton        2\n",
            "Liverpool      3\n",
            "Man City       2\n",
            "Name: position, dtype: int64\n",
            "****************************************************************************************\n",
            "Total cost: 847\n"
          ]
        }
      ],
      "source": [
        "sanity_check(initial_team_df)"
      ]
    },
    {
      "cell_type": "markdown",
      "metadata": {
        "id": "rTAUObkrM7P5"
      },
      "source": [
        "## Performance of initial team\n",
        "\n",
        "Right off the bat, how does this team fare in the 19/20 season?\n",
        "\n",
        "Note: I selected the highest scoring player in the 18/19 season as the captain for the 19/20 season"
      ]
    },
    {
      "cell_type": "code",
      "execution_count": null,
      "metadata": {
        "trusted": true,
        "id": "mRcizahrM7P5"
      },
      "outputs": [],
      "source": [
        "captain = get_initial_team(prob, previous_season_player_df).sort_values(\"total_points\", ascending=False).head(1).full_name.values[0]"
      ]
    },
    {
      "cell_type": "code",
      "execution_count": null,
      "metadata": {
        "trusted": true,
        "colab": {
          "base_uri": "https://localhost:8080/"
        },
        "id": "azn7giNbM7P5",
        "outputId": "30a0fd38-52d0-4d44-9555-6f5d37793de6"
      },
      "outputs": [
        {
          "output_type": "stream",
          "name": "stdout",
          "text": [
            "Total points for 19/20 season: 1792\n"
          ]
        }
      ],
      "source": [
        "captain = get_initial_team(prob, previous_season_player_df).sort_values(\"total_points\", ascending=False).head(1).full_name.values[0]\n",
        "\n",
        "total_points = current_season_player_df[current_season_player_df.full_name.isin(initial_team_df.full_name)].total_points.sum()\n",
        "total_points += current_season_player_df[current_season_player_df.full_name==captain].total_points\n",
        "\n",
        "print(\"Total points for 19/20 season:\", total_points.values[0])"
      ]
    },
    {
      "cell_type": "markdown",
      "metadata": {
        "id": "NYOdA4Y4M7P6"
      },
      "source": [
        "How does this compare to the rest of the FPL managers? Unfortunately there is no data available on historic FPL manager ranking, but with some Googling I managed to find someone with the exact same score of 1792 in the 19/20 season (https://fantasy.premierleague.com/entry/299659/history)\n",
        "\n",
        "This manager ranked 4375672. According to https://www.premierleague.com/news/1252542, there were 7.6 million managers last season. This translates to a final standing of the top 57.57% of managers. Not bad, but not great either.\n",
        "\n",
        "This initial score was calculated based on a strategy of \"set it and forget it\" - once the initial team was selected, the captain was selected as well, and I just left it to run for the whole season. No wildcards were played, no transfers were made, and no substitutions were made (so, in some weeks, a player could have had 0 points because they were not playing - but, I have yet to check if this is true for this team).\n",
        "\n",
        "Next, I will take a look at how we can improve this score by making weekly transfers!"
      ]
    },
    {
      "cell_type": "markdown",
      "metadata": {
        "id": "49G64gu4M7P6"
      },
      "source": [
        "# Modeling\n",
        "\n",
        "## Approach:\n",
        "\n",
        "- Use each player's performance in previous Gameweeks to predict total points for this Gameweek.\n",
        "- Use team and opponent performance in previous Gameweeks as well\n",
        "\n",
        "This will be done by creating lagged versions of selected features such as cumulative goals scored/conceded by the player's team as well as their opponent. Each player's contribution will also be taken into account by creating the corresponding lagged features at the player level, as well by incorporating what FPL clas the \"ICT\" variables - intensity, creativty, and threat - which related to a player's performance on the pitch that did not directly relate to goals (but relate to creating goal-scoring opportunities and build-up play)\n",
        "\n",
        "\n",
        "- Use previous Gameweek's performance to predict total points for next gameweek\n",
        "- Calculate a rolling average\n",
        "- Also use previous season's total points as a predictor, as the predictions for the earlier gameweeks might be extremely noisy. This is important as we don't want star players to be transfered out just because they had a bad start\n",
        "- For players without data from past seasons, replace with average of players in the same position and similar cost (rounded to nearest 10m)\n",
        "\n",
        "- Only include players who had played (i.e. minutes > 0) to reduce noise"
      ]
    },
    {
      "cell_type": "markdown",
      "metadata": {
        "id": "NSLxdY7DM7P6"
      },
      "source": [
        "Again, some helper functions to make life easier:"
      ]
    },
    {
      "cell_type": "code",
      "execution_count": null,
      "metadata": {
        "trusted": true,
        "id": "kXpN8QX2M7P6"
      },
      "outputs": [],
      "source": [
        "def get_team_points(was_home, h_score, a_score):\n",
        "    \n",
        "    if h_score == a_score:\n",
        "        return 1\n",
        "    \n",
        "    if h_score > a_score:\n",
        "        if was_home:\n",
        "            return 3\n",
        "        else: \n",
        "            return 0\n",
        "    \n",
        "    if h_score < a_score:\n",
        "        if was_home:\n",
        "            return 0\n",
        "        else: \n",
        "            return 3"
      ]
    },
    {
      "cell_type": "code",
      "execution_count": null,
      "metadata": {
        "trusted": true,
        "id": "ADb3cLXBM7P7"
      },
      "outputs": [],
      "source": [
        "def get_opponent_points(team_points):\n",
        "    if team_points == 1:\n",
        "        return 1\n",
        "    \n",
        "    if team_points == 3:\n",
        "        return 0\n",
        "    \n",
        "    if team_points == 0:\n",
        "        return 3"
      ]
    },
    {
      "cell_type": "code",
      "execution_count": null,
      "metadata": {
        "trusted": true,
        "id": "c2b0fxl0M7P7"
      },
      "outputs": [],
      "source": [
        "gws_df['team_points']= gws_df.apply(lambda x: get_team_points(x.was_home, x.team_h_score, x.team_a_score), axis=1)\n",
        "gws_df['opponent_points'] = gws_df.team_points.apply(lambda x: get_opponent_points(x))"
      ]
    },
    {
      "cell_type": "code",
      "execution_count": null,
      "metadata": {
        "trusted": true,
        "id": "j-oDkKqcM7P7"
      },
      "outputs": [],
      "source": [
        "def player_lag_features(gw_df, features, lags):\n",
        "    \n",
        "    out_df = gw_df.copy()\n",
        "    lagged_features = []\n",
        "    \n",
        "    for feature in features:\n",
        "            \n",
        "        for lag in lags:\n",
        "            \n",
        "            lagged_feature = 'last_' + str(lag) + '_' + feature\n",
        "            \n",
        "            if lag == 'all':\n",
        "                out_df[lagged_feature] = out_df.sort_values('round').groupby(['season', 'full_name'])[feature]\\\n",
        "            .apply(lambda x: x.cumsum() - x)\n",
        "                \n",
        "            else:\n",
        "\n",
        "                out_df[lagged_feature] = out_df.sort_values('round').groupby(['season', 'full_name'])[feature]\\\n",
        "                .apply(lambda x: x.rolling(min_periods=1, window=lag+1).sum() - x)\n",
        "\n",
        "            lagged_features.append(lagged_feature)\n",
        "    \n",
        "    return out_df, lagged_features"
      ]
    },
    {
      "cell_type": "code",
      "execution_count": null,
      "metadata": {
        "trusted": true,
        "id": "ZgG6gUbwM7P7"
      },
      "outputs": [],
      "source": [
        "def team_lag_features(gw_df, features, lags):\n",
        "    out_df = gw_df.copy()\n",
        "    lagged_features = []\n",
        "    \n",
        "    for feature in features:\n",
        "\n",
        "        ## Create a df for each feature\n",
        "        ## Then, self-join so that the opponent info for that feature is included\n",
        "        ## Then, create lagged features and join the columns to the feature df\n",
        "        ## Do the same for the opponent feature\n",
        "        ## Exit loop, merge with the original df\n",
        "        \n",
        "        feature_name = feature + '_team'\n",
        "        opponent_feature_name = feature_name + '_opponent'\n",
        "        \n",
        "  \n",
        "        feature_team = out_df.groupby(['player_team_name', 'season', 'round', 'kickoff_time', 'opponent_team_name'])\\\n",
        "                        [feature].max().rename(feature_name).reset_index()\n",
        "        \n",
        "        # self join to get opponent info\n",
        "        \n",
        "        feature_team = feature_team.merge(feature_team,\n",
        "                          left_on=['player_team_name', 'season', 'round', 'kickoff_time', 'opponent_team_name'],\n",
        "                          right_on=['opponent_team_name', 'season', 'round', 'kickoff_time', 'player_team_name'],\n",
        "                          how='left',\n",
        "                          suffixes=('', '_opponent'))\n",
        "            \n",
        "        \n",
        "\n",
        "        \n",
        "        for lag in lags:\n",
        "            lagged_feature_name = 'last_' + str(lag) + '_' + feature_name\n",
        "            lagged_opponent_feature_name = 'opponent_last_' + str(lag) + '_' + feature\n",
        "            \n",
        "\n",
        "            if lag == 'all':\n",
        "                \n",
        "                feature_team[lagged_feature_name] = feature_team.sort_values('round').groupby('player_team_name')[feature_name]\\\n",
        "                                                .apply(lambda x: x.cumsum() - x)\n",
        "            \n",
        "                feature_team[lagged_opponent_feature_name] = feature_team.groupby('player_team_name')[opponent_feature_name]\\\n",
        "                                                .apply(lambda x: x.cumsum() - x)\n",
        "            else:\n",
        "                    \n",
        "                       \n",
        "                feature_team[lagged_feature_name] = feature_team.sort_values('round').groupby('player_team_name')[feature_name]\\\n",
        "                                                    .apply(lambda x: x.rolling(min_periods=1,\n",
        "                                                                              window=lag+1).sum()-x)\n",
        "\n",
        "                feature_team[lagged_opponent_feature_name] = feature_team.groupby('player_team_name')[opponent_feature_name]\\\n",
        "                                                    .apply(lambda x: x.rolling(min_periods=1,\n",
        "                                                                              window=lag+1).sum()-x)\n",
        "\n",
        "            lagged_features.extend([lagged_feature_name, lagged_opponent_feature_name])\n",
        "            \n",
        "        out_df = out_df.merge(feature_team,\n",
        "                             on=['player_team_name', 'season', 'round', 'kickoff_time', 'opponent_team_name'],\n",
        "                             how='left')\n",
        "        \n",
        "        \n",
        "        return out_df, lagged_features"
      ]
    },
    {
      "cell_type": "code",
      "execution_count": null,
      "metadata": {
        "trusted": true,
        "id": "wUeJXzYVM7P8"
      },
      "outputs": [],
      "source": [
        "player_features_to_lag = [\n",
        "    'assists',\n",
        "     'bonus',\n",
        "     'bps',\n",
        "     'creativity',\n",
        "     'clean_sheets',\n",
        "     'goals_conceded',\n",
        "     'goals_scored',\n",
        "     'ict_index',\n",
        "     'influence',\n",
        "     'minutes',\n",
        "     'threat']\n",
        "\n",
        "team_features_to_lag = ['goals_conceded', 'goals_scored', 'team_points', 'opponent_points']"
      ]
    },
    {
      "cell_type": "code",
      "execution_count": null,
      "metadata": {
        "trusted": true,
        "id": "Lt0fMhNEM7P8"
      },
      "outputs": [],
      "source": [
        "lagged_gw_df_players, lagged_player_features = player_lag_features(gws_df, player_features_to_lag, ['all', 1, 3, 5])"
      ]
    },
    {
      "cell_type": "code",
      "execution_count": null,
      "metadata": {
        "trusted": true,
        "id": "-4dI7yqvM7P8"
      },
      "outputs": [],
      "source": [
        "lagged_gw_df, lagged_team_features = team_lag_features(lagged_gw_df_players, team_features_to_lag, ['all', 1, 3, 5])"
      ]
    },
    {
      "cell_type": "code",
      "execution_count": null,
      "metadata": {
        "trusted": true,
        "id": "0rQW5YHHM7P9"
      },
      "outputs": [],
      "source": [
        "relevant_features = ['position', 'was_home', 'minutes', 'value', 'round', 'season_num'] + \\\n",
        "    lagged_player_features + \\\n",
        "    lagged_team_features "
      ]
    },
    {
      "cell_type": "markdown",
      "metadata": {
        "id": "4O5_9MFgM7P9"
      },
      "source": [
        "# Modelling\n",
        "\n"
      ]
    },
    {
      "cell_type": "code",
      "execution_count": null,
      "metadata": {
        "trusted": true,
        "id": "Mr9L9fxrM7P9"
      },
      "outputs": [],
      "source": [
        "def make_dummies(df, numerical_features, categorical_features):\n",
        "    \n",
        "  \n",
        "    X_num = df[numerical_features]\n",
        "    X_cat = df[categorical_features]\n",
        "    \n",
        "    X_cat = X_cat.astype(str)\n",
        "    X_cat = pd.get_dummies(X_cat)\n",
        "    \n",
        "    # Join categorical and numerical features\n",
        "    X = pd.concat([X_num, X_cat], axis=1)\n",
        "    \n",
        "    return X"
      ]
    },
    {
      "cell_type": "code",
      "execution_count": null,
      "metadata": {
        "trusted": true,
        "id": "sKdbFak2M7P-"
      },
      "outputs": [],
      "source": [
        "categorical_features = ['was_home', 'position']\n",
        "numerical_features = numerical_features = list(set(relevant_features) - set(categorical_features))"
      ]
    },
    {
      "cell_type": "code",
      "execution_count": null,
      "metadata": {
        "trusted": true,
        "id": "1BHkacmCM7P-"
      },
      "outputs": [],
      "source": [
        "train_df = lagged_gw_df[(lagged_gw_df.season!='1920')]\n",
        "test_df = lagged_gw_df[(lagged_gw_df.season=='1920') ]\n",
        "\n"
      ]
    },
    {
      "cell_type": "code",
      "execution_count": null,
      "metadata": {
        "trusted": true,
        "id": "tLYepc4PM7P-"
      },
      "outputs": [],
      "source": [
        "# XGBoost handles NA values, but the other scikit learn methods (that I've chosen) do not\n",
        "\n",
        "lagged_gw_df_no_na = lagged_gw_df.dropna(subset=relevant_features + ['total_points', 'season'])\n",
        "train_df_no_na = lagged_gw_df_no_na[lagged_gw_df_no_na.season!='1920']\n",
        "test_df_no_na = lagged_gw_df_no_na[lagged_gw_df_no_na.season=='1920']"
      ]
    },
    {
      "cell_type": "code",
      "execution_count": null,
      "metadata": {
        "trusted": true,
        "id": "CEVgx2vvM7P-"
      },
      "outputs": [],
      "source": [
        "X_train = make_dummies(train_df[relevant_features], numerical_features, categorical_features)\n",
        "y_train = train_df.total_points\n",
        "\n",
        "X_train_no_na = make_dummies(train_df_no_na[relevant_features], numerical_features, categorical_features)\n",
        "y_train_no_na = train_df_no_na.total_points"
      ]
    },
    {
      "cell_type": "code",
      "execution_count": null,
      "metadata": {
        "trusted": true,
        "id": "f3l4fjnpM7P_"
      },
      "outputs": [],
      "source": [
        "X_test = make_dummies(test_df, numerical_features, categorical_features)\n",
        "y_test = test_df.total_points\n",
        "\n",
        "X_test_no_na = make_dummies(test_df_no_na, numerical_features, categorical_features)\n",
        "y_test_no_na = test_df_no_na.total_points"
      ]
    },
    {
      "cell_type": "markdown",
      "metadata": {
        "id": "zm-ZeYKVM7P_"
      },
      "source": [
        "# Regression models\n",
        "\n",
        "For a start, I have chosen to look at:\n",
        "\n",
        "- Linear regression and its variants, Lasso and Ridge\n",
        "- XGBoost\n",
        "- A simple baseline model of using group means\n",
        "\n",
        "For the XGBoost regressor, I will first do a randomized search to tune the hyperparameters. One risk of this approach is that time and resources will be wasted on tuning the hyperparameters if it turns out that a much simpler model that doesn't require hyperparameter tuning (e.g. linear regression) performs much better than XGBoost. But, given that XGBoost has known to almost always outperform most other models, it is at least worth a shot.\n",
        "\n",
        "Then, all models will be compared and the top 2 (with the highest cross-validation score - here I use RMSE) will be used to make predictions to be fed into the algorithm to select potential transfers for each gameweek.\n",
        "\n",
        "A brief explanation on the starting values I have selected for the tuning of the hyperparameters:\n",
        "\n",
        "`max_depth`: larger values makes the model (1) more complex, (2) more likely to overfit, and (3) take longer to train. Here, I used a range from 3-6 (the default). I am wary of overfitting since the nature of the data can change dramatically across seasons (e.g. due to player transfers, improvement/decline of play abilities, state of the club etc.). \n",
        "\n",
        "`min_child_weight`: Similar to `max_depth`, I want to reduce the complexity/variance in the model. Here, larger values will reduce the likelihood of overfitting. I decided to use a range from 6-10\n",
        "\n",
        "`learning_rate`: The default here is 0.3. I decided to try 5 values: 1/10 of the default, 1/5 of the default, 1.5x the default, and 2x the default.\n",
        "\n",
        "`subsample` and `colsample_by_tree`: The default here is 1, but since I want to reduce overfitting, I decided to use a range from 0.8 - 0.9. \n",
        "\n"
      ]
    },
    {
      "cell_type": "code",
      "execution_count": null,
      "metadata": {
        "trusted": true,
        "id": "wqGc0vWfM7QA"
      },
      "outputs": [],
      "source": [
        "params = {\n",
        "         'max_depth': list(range(3,7)),  \n",
        "    'min_child_weight': list(range(10,51)),\n",
        "    'learning_rate':  [0.03, 0.15, 0.3, 0.45, 0.6],\n",
        "    'subsample': stats.uniform(0.8, 0.1),\n",
        "    'colsample_bytree': [0.8, 0.1]}\n",
        "\n",
        "xgb_reg = xgb.XGBRegressor(objective='reg:squarederror')\n",
        "xgb_reg.fit(X_train, y_train)\n",
        "\n",
        "\n",
        "\n",
        "xgb_cv = RandomizedSearchCV(xgb_reg, params, cv=3, scoring='neg_root_mean_squared_error',\n",
        "                            random_state=999)\n"
      ]
    },
    {
      "cell_type": "code",
      "execution_count": null,
      "metadata": {
        "trusted": true,
        "colab": {
          "base_uri": "https://localhost:8080/",
          "height": 248
        },
        "id": "dLaQolCqM7QA",
        "outputId": "11bd8032-d777-4728-c82d-f924253691f5"
      },
      "outputs": [
        {
          "output_type": "execute_result",
          "data": {
            "text/plain": [
              "XGBRegressor(base_score=None, booster=None, callbacks=None,\n",
              "             colsample_bylevel=None, colsample_bynode=None,\n",
              "             colsample_bytree=0.8, early_stopping_rounds=None,\n",
              "             enable_categorical=False, eval_metric=None, feature_types=None,\n",
              "             gamma=None, gpu_id=None, grow_policy=None, importance_type=None,\n",
              "             interaction_constraints=None, learning_rate=0.03, max_bin=None,\n",
              "             max_cat_threshold=None, max_cat_to_onehot=None,\n",
              "             max_delta_step=None, max_depth=6, max_leaves=None,\n",
              "             min_child_weight=37, missing=nan, monotone_constraints=None,\n",
              "             n_estimators=100, n_jobs=None, num_parallel_tree=None,\n",
              "             predictor=None, random_state=None, ...)"
            ],
            "text/html": [
              "<style>#sk-container-id-1 {color: black;background-color: white;}#sk-container-id-1 pre{padding: 0;}#sk-container-id-1 div.sk-toggleable {background-color: white;}#sk-container-id-1 label.sk-toggleable__label {cursor: pointer;display: block;width: 100%;margin-bottom: 0;padding: 0.3em;box-sizing: border-box;text-align: center;}#sk-container-id-1 label.sk-toggleable__label-arrow:before {content: \"▸\";float: left;margin-right: 0.25em;color: #696969;}#sk-container-id-1 label.sk-toggleable__label-arrow:hover:before {color: black;}#sk-container-id-1 div.sk-estimator:hover label.sk-toggleable__label-arrow:before {color: black;}#sk-container-id-1 div.sk-toggleable__content {max-height: 0;max-width: 0;overflow: hidden;text-align: left;background-color: #f0f8ff;}#sk-container-id-1 div.sk-toggleable__content pre {margin: 0.2em;color: black;border-radius: 0.25em;background-color: #f0f8ff;}#sk-container-id-1 input.sk-toggleable__control:checked~div.sk-toggleable__content {max-height: 200px;max-width: 100%;overflow: auto;}#sk-container-id-1 input.sk-toggleable__control:checked~label.sk-toggleable__label-arrow:before {content: \"▾\";}#sk-container-id-1 div.sk-estimator input.sk-toggleable__control:checked~label.sk-toggleable__label {background-color: #d4ebff;}#sk-container-id-1 div.sk-label input.sk-toggleable__control:checked~label.sk-toggleable__label {background-color: #d4ebff;}#sk-container-id-1 input.sk-hidden--visually {border: 0;clip: rect(1px 1px 1px 1px);clip: rect(1px, 1px, 1px, 1px);height: 1px;margin: -1px;overflow: hidden;padding: 0;position: absolute;width: 1px;}#sk-container-id-1 div.sk-estimator {font-family: monospace;background-color: #f0f8ff;border: 1px dotted black;border-radius: 0.25em;box-sizing: border-box;margin-bottom: 0.5em;}#sk-container-id-1 div.sk-estimator:hover {background-color: #d4ebff;}#sk-container-id-1 div.sk-parallel-item::after {content: \"\";width: 100%;border-bottom: 1px solid gray;flex-grow: 1;}#sk-container-id-1 div.sk-label:hover label.sk-toggleable__label {background-color: #d4ebff;}#sk-container-id-1 div.sk-serial::before {content: \"\";position: absolute;border-left: 1px solid gray;box-sizing: border-box;top: 0;bottom: 0;left: 50%;z-index: 0;}#sk-container-id-1 div.sk-serial {display: flex;flex-direction: column;align-items: center;background-color: white;padding-right: 0.2em;padding-left: 0.2em;position: relative;}#sk-container-id-1 div.sk-item {position: relative;z-index: 1;}#sk-container-id-1 div.sk-parallel {display: flex;align-items: stretch;justify-content: center;background-color: white;position: relative;}#sk-container-id-1 div.sk-item::before, #sk-container-id-1 div.sk-parallel-item::before {content: \"\";position: absolute;border-left: 1px solid gray;box-sizing: border-box;top: 0;bottom: 0;left: 50%;z-index: -1;}#sk-container-id-1 div.sk-parallel-item {display: flex;flex-direction: column;z-index: 1;position: relative;background-color: white;}#sk-container-id-1 div.sk-parallel-item:first-child::after {align-self: flex-end;width: 50%;}#sk-container-id-1 div.sk-parallel-item:last-child::after {align-self: flex-start;width: 50%;}#sk-container-id-1 div.sk-parallel-item:only-child::after {width: 0;}#sk-container-id-1 div.sk-dashed-wrapped {border: 1px dashed gray;margin: 0 0.4em 0.5em 0.4em;box-sizing: border-box;padding-bottom: 0.4em;background-color: white;}#sk-container-id-1 div.sk-label label {font-family: monospace;font-weight: bold;display: inline-block;line-height: 1.2em;}#sk-container-id-1 div.sk-label-container {text-align: center;}#sk-container-id-1 div.sk-container {/* jupyter's `normalize.less` sets `[hidden] { display: none; }` but bootstrap.min.css set `[hidden] { display: none !important; }` so we also need the `!important` here to be able to override the default hidden behavior on the sphinx rendered scikit-learn.org. See: https://github.com/scikit-learn/scikit-learn/issues/21755 */display: inline-block !important;position: relative;}#sk-container-id-1 div.sk-text-repr-fallback {display: none;}</style><div id=\"sk-container-id-1\" class=\"sk-top-container\"><div class=\"sk-text-repr-fallback\"><pre>XGBRegressor(base_score=None, booster=None, callbacks=None,\n",
              "             colsample_bylevel=None, colsample_bynode=None,\n",
              "             colsample_bytree=0.8, early_stopping_rounds=None,\n",
              "             enable_categorical=False, eval_metric=None, feature_types=None,\n",
              "             gamma=None, gpu_id=None, grow_policy=None, importance_type=None,\n",
              "             interaction_constraints=None, learning_rate=0.03, max_bin=None,\n",
              "             max_cat_threshold=None, max_cat_to_onehot=None,\n",
              "             max_delta_step=None, max_depth=6, max_leaves=None,\n",
              "             min_child_weight=37, missing=nan, monotone_constraints=None,\n",
              "             n_estimators=100, n_jobs=None, num_parallel_tree=None,\n",
              "             predictor=None, random_state=None, ...)</pre><b>In a Jupyter environment, please rerun this cell to show the HTML representation or trust the notebook. <br />On GitHub, the HTML representation is unable to render, please try loading this page with nbviewer.org.</b></div><div class=\"sk-container\" hidden><div class=\"sk-item\"><div class=\"sk-estimator sk-toggleable\"><input class=\"sk-toggleable__control sk-hidden--visually\" id=\"sk-estimator-id-1\" type=\"checkbox\" checked><label for=\"sk-estimator-id-1\" class=\"sk-toggleable__label sk-toggleable__label-arrow\">XGBRegressor</label><div class=\"sk-toggleable__content\"><pre>XGBRegressor(base_score=None, booster=None, callbacks=None,\n",
              "             colsample_bylevel=None, colsample_bynode=None,\n",
              "             colsample_bytree=0.8, early_stopping_rounds=None,\n",
              "             enable_categorical=False, eval_metric=None, feature_types=None,\n",
              "             gamma=None, gpu_id=None, grow_policy=None, importance_type=None,\n",
              "             interaction_constraints=None, learning_rate=0.03, max_bin=None,\n",
              "             max_cat_threshold=None, max_cat_to_onehot=None,\n",
              "             max_delta_step=None, max_depth=6, max_leaves=None,\n",
              "             min_child_weight=37, missing=nan, monotone_constraints=None,\n",
              "             n_estimators=100, n_jobs=None, num_parallel_tree=None,\n",
              "             predictor=None, random_state=None, ...)</pre></div></div></div></div></div>"
            ]
          },
          "metadata": {},
          "execution_count": 58
        }
      ],
      "source": [
        "xgb_cv.fit(X_train, y_train)\n",
        "xgb_best = xgb.XGBRegressor(objective='reg:squarederror')\n",
        "xgb_best.set_params(**xgb_cv.best_params_)\n"
      ]
    },
    {
      "cell_type": "code",
      "execution_count": null,
      "metadata": {
        "trusted": true,
        "id": "zZOpZ4eMM7QB"
      },
      "outputs": [],
      "source": [
        "# Initialize the models. I am doing it this way as predictions are easy to calculate so I will not be storing them until I need them\n",
        "\n",
        "\n",
        "seed = 999\n",
        "models = []\n",
        "models.append(('LinReg', LinearRegression()))\n",
        "models.append(('LassoReg', LassoCV()))\n",
        "models.append(('RidgeReg', RidgeCV()))\n"
      ]
    },
    {
      "cell_type": "code",
      "execution_count": null,
      "metadata": {
        "trusted": true,
        "id": "W4FxXKq5M7QB"
      },
      "outputs": [],
      "source": [
        "def get_cv_scores(models, X, y, k=5, seed=999):\n",
        "    \n",
        "    # inspired by the excellent tutorial by Jason Brownlee:\n",
        "    # https://machinelearningmastery.com/compare-machine-learning-algorithms-python-scikit-learn/\n",
        "    \n",
        "    names = []\n",
        "    results = []\n",
        "    print(\"Cross val scores:\")\n",
        "    \n",
        "    for name, m in models:\n",
        "        cv_results = -cross_val_score(m, X, y, cv=k, scoring='neg_root_mean_squared_error')\n",
        "        results.append(cv_results)\n",
        "        names.append(name)\n",
        "        \n",
        "        print(\"%s: %f (%f)\" % (name, cv_results.mean(), cv_results.std() ))\n",
        "        print(\"\")\n",
        "        print(\"*\"*88)\n",
        "        print(\"\")\n",
        "        \n",
        "    return names, results\n"
      ]
    },
    {
      "cell_type": "code",
      "execution_count": null,
      "metadata": {
        "trusted": true,
        "colab": {
          "base_uri": "https://localhost:8080/"
        },
        "id": "emB9pMJFM7QB",
        "outputId": "67875a63-cbd1-4030-c038-756a07e5428b"
      },
      "outputs": [
        {
          "output_type": "stream",
          "name": "stdout",
          "text": [
            "Cross val scores:\n",
            "LinReg: 1.900170 (0.042194)\n",
            "\n",
            "****************************************************************************************\n",
            "\n",
            "LassoReg: 1.904667 (0.043896)\n",
            "\n",
            "****************************************************************************************\n",
            "\n",
            "RidgeReg: 1.900111 (0.042181)\n",
            "\n",
            "****************************************************************************************\n",
            "\n"
          ]
        }
      ],
      "source": [
        "model_names, model_results = get_cv_scores(models, X_train_no_na, y_train_no_na)"
      ]
    },
    {
      "cell_type": "code",
      "execution_count": null,
      "metadata": {
        "trusted": true,
        "colab": {
          "base_uri": "https://localhost:8080/"
        },
        "id": "Av2W8GmyM7QC",
        "outputId": "bca992b2-9c18-4297-dcc7-195c6375a2d2"
      },
      "outputs": [
        {
          "output_type": "stream",
          "name": "stdout",
          "text": [
            "Cross val scores:\n",
            "XGB: 1.857982 (0.041768)\n",
            "\n",
            "****************************************************************************************\n",
            "\n"
          ]
        }
      ],
      "source": [
        "xgb_cv_scores = get_cv_scores([(\"XGB\", xgb_best)], X_train, y_train)"
      ]
    },
    {
      "cell_type": "code",
      "execution_count": null,
      "metadata": {
        "trusted": true,
        "id": "aKt6Dfh0M7QC"
      },
      "outputs": [],
      "source": [
        "model_names += xgb_cv_scores[0]\n",
        "model_results += xgb_cv_scores[1]"
      ]
    },
    {
      "cell_type": "code",
      "execution_count": null,
      "metadata": {
        "trusted": true,
        "id": "NvCTJtVHM7QC"
      },
      "outputs": [],
      "source": [
        "def compare_model_scores(model_names, model_results):\n",
        "    \n",
        "    fig = plt.figure()\n",
        "    fig.suptitle('Model comparison')\n",
        "    ax = fig.add_subplot(111)\n",
        "    plt.boxplot(model_results)\n",
        "    ax.set_xticklabels(model_names)\n",
        "    plt.show()"
      ]
    },
    {
      "cell_type": "code",
      "execution_count": null,
      "metadata": {
        "trusted": true,
        "colab": {
          "base_uri": "https://localhost:8080/",
          "height": 478
        },
        "id": "nW6S0mu0M7QC",
        "outputId": "26718a8d-5ab8-49e3-fa59-1b9c4e4a350b"
      },
      "outputs": [
        {
          "output_type": "display_data",
          "data": {
            "text/plain": [
              "<Figure size 640x480 with 1 Axes>"
            ],
            "image/png": "[encoded data removed]"
          },
          "metadata": {}
        }
      ],
      "source": [
        "compare_model_scores(model_names, model_results)"
      ]
    },
    {
      "cell_type": "markdown",
      "metadata": {
        "id": "KigLu-yOM7QD"
      },
      "source": [
        "It looks like XGBoost is the winner here in terms of average RMSE. The other regression models appear to be more or less the same, so I will go with the simple Linear Regression model as the other choice for comparing the transfer selection algorithm."
      ]
    },
    {
      "cell_type": "markdown",
      "metadata": {
        "id": "w7BVkEWpM7QD"
      },
      "source": [
        "# Transfer selection\n",
        "\n",
        "Next, I came up with a heuristic-based algorithm that will decide which transfer, if any, to make for each Gameweek:\n",
        "\n",
        "- For each player position, find the player in the current team with the lowest predicted points. Here, I excluded the Keeper since the variance in points (and thus the potential benefit from a transfer) from Keepers is not very high compared to the other positions.\n",
        "- From the pool of players not in the current team, get all players that (1) have predicted points that are higher than this player, and (2) a cost that is lower than the cost of this player and the current available money\n",
        "- From this pool of players, a potential player will be selected. \n",
        "- Among the 3 potential players selected (1 from each position), the player with the highest predicted point difference, compared against the player that they will replace, will be selected as the final player to be transferred in. \n",
        "- The constraint of not more than 3 players from the same team will also be checked.\n",
        "- There could be cases where all the players from the current team have the highest predicted points for their respective positions. In that case, no transfers will be made."
      ]
    },
    {
      "cell_type": "code",
      "execution_count": null,
      "metadata": {
        "trusted": true,
        "id": "VVe-7mi1M7QD"
      },
      "outputs": [],
      "source": [
        "def make_predicted_table(y_test, y_pred, gw_df):\n",
        "    results_df = pd.DataFrame(list(zip(y_test.tolist(), y_pred.tolist())),\n",
        "                             columns=[\"actual\", \"predicted\"])\n",
        "    \n",
        "    \n",
        "    results_df.reset_index(drop=True, inplace=True)\n",
        "    gw_df.reset_index(inplace=True)\n",
        "    pred_df = pd.concat([gw_df, results_df], axis=1)\n",
        "    \n",
        "    return pred_df"
      ]
    },
    {
      "cell_type": "code",
      "execution_count": null,
      "metadata": {
        "trusted": true,
        "id": "DLfoMJWhM7QE"
      },
      "outputs": [],
      "source": [
        "def get_suggested_transfer(predicted_df, team_list, current_money):\n",
        "    \n",
        "    predicted_diff = 0\n",
        "    money_change = 0\n",
        "    suggested_in = ''\n",
        "    suggested_out = ''\n",
        "    team_df = predicted_df[(predicted_df.full_name.isin(team_list))]\n",
        "    \n",
        "  \n",
        "    teams_dict = {}\n",
        "    for i, row in team_df.iterrows():\n",
        "        if row.player_team_name not in teams_dict:\n",
        "            teams_dict[row.player_team_name] = [row.full_name]\n",
        "        else:\n",
        "            teams_dict[row.player_team_name].append(row.full_name)\n",
        "            \n",
        "            \n",
        "    for position in [\"Defender\", \"Midfielder\", \"Forward\"]:\n",
        "        \n",
        "        # don't bother about keepers, variance in scores is not that great\n",
        "        # so, save the free transfer for other positions\n",
        "       \n",
        "        \n",
        "        \n",
        "        player_df = predicted_df[predicted_df.position==position].sort_values('predicted', ascending=False).reset_index()\n",
        "\n",
        "        \n",
        "        lowest_pos = 0\n",
        "        player_names = team_df[team_df.position==position].full_name.values\n",
        "        \n",
        "        # loop through the players for this position, and get the rank (row number) of the player with the lowest predicted score\n",
        "        for p in player_names:\n",
        "            player_pos = player_df[player_df.full_name==p].index[0]\n",
        "            if player_pos > lowest_pos:\n",
        "                lowest_pos = player_pos\n",
        "                potential_out = p\n",
        "                potential_out_cost = team_df[team_df.full_name==p].value.values[0]\n",
        "                potential_out_team = team_df[team_df.full_name==p].player_team_name.values[0]\n",
        "                \n",
        "            elif len(player_names) <= 1:\n",
        "                potential_out_cost = 0\n",
        "                potential_out_team = 'none'\n",
        "                potential_out = 'none'\n",
        "                \n",
        "        # get all players above this player\n",
        "        potential_players = player_df[:lowest_pos]\n",
        "        \n",
        "        \n",
        "        # only keep players that we can afford\n",
        "        potential_players = potential_players[potential_players.value <= potential_out_cost + current_money]\n",
        "        \n",
        "        # only keep players who played (need a better way of doing this)\n",
        "        potential_players = potential_players[potential_players.minutes > 0]\n",
        "\n",
        "        # get the prediction difference for each suggested player\n",
        "        # select the one with the highest difference as the suggested transfer (compare across positons)\n",
        "        \n",
        "        potential_out_predicted = team_df[team_df.full_name==p].predicted.values[0]\n",
        "        \n",
        "        for i, row in potential_players.iterrows():\n",
        "                \n",
        "            # skip if it is a player we already have\n",
        "            if row.full_name in team_list:\n",
        "                continue\n",
        "\n",
        "\n",
        "\n",
        "            # if there are no other players of the same team, it's ok to consider this player\n",
        "            # if not, check whether there are 3 players of the same team already\n",
        "            if row.player_team_name not in teams_dict:\n",
        "                pass\n",
        "            else:\n",
        "                if len(teams_dict[row.player_team_name]) == 3:\n",
        "                    # if there are already 3 players of the same team,\n",
        "                    # can't take another player of the same team\n",
        "                    # unless the suggested_out is the same team as suggested_in (direct swap)\n",
        "                   \n",
        "                    if row.player_team_name == potential_out_team:\n",
        "                        pass\n",
        "                    else:\n",
        "                        continue\n",
        "                else:\n",
        "                    pass\n",
        "                \n",
        "            \n",
        "            # check for difference in predictions\n",
        "            if row.predicted - potential_out_predicted > predicted_diff:\n",
        "                predicted_diff = row.predicted - potential_out_predicted\n",
        "                suggested_in = row.full_name\n",
        "                suggested_out = potential_out\n",
        "                \n",
        "                # calculate change in money\n",
        "                money_change = potential_out_cost - row.value\n",
        "                \n",
        "    return suggested_in, suggested_out, money_change"
      ]
    },
    {
      "cell_type": "code",
      "execution_count": null,
      "metadata": {
        "trusted": true,
        "id": "WUfJk2JhM7QE"
      },
      "outputs": [],
      "source": [
        "def get_score(team_list, gw_df):\n",
        "    \n",
        "    gw_score = gw_df[gw_df.full_name.isin(team_list)].actual.sum() \\\n",
        "        + gw_df[(gw_df.full_name.isin(team_list)) & (gw_df.position!='Keeper')].sort_values(\"predicted\", ascending=False).head(1).actual.values[0]\n",
        "        \n",
        "    \n",
        "    return gw_score"
      ]
    },
    {
      "cell_type": "code",
      "execution_count": null,
      "metadata": {
        "trusted": true,
        "id": "iFn2us8lM7QF"
      },
      "outputs": [],
      "source": [
        "def get_performance(team_list, starting_money, gw_list,\n",
        "                   prediction_df):\n",
        "    \n",
        "    current_money = starting_money\n",
        "    total_score = 0\n",
        "    \n",
        "    \n",
        "    in_list = []\n",
        "    out_list = []\n",
        "    score_list = []\n",
        "    unplayed_list = []\n",
        "    \n",
        "    \n",
        "    for gw in gw_list:\n",
        "\n",
        "        gw_df = prediction_df[prediction_df.GW==gw]\n",
        "        money_change = 0\n",
        "        suggested_in = ''\n",
        "        suggested_out = ''\n",
        "        if gw > 1:\n",
        "            \n",
        "\n",
        "            suggested_in, suggested_out, money_change = get_suggested_transfer(gw_df, team_list, current_money)\n",
        "        \n",
        "            current_money += money_change\n",
        "\n",
        "            team_list.append(suggested_in)\n",
        "            team_list.remove(suggested_out)\n",
        "            \n",
        "        \n",
        "\n",
        "        ## Calculate scores\n",
        "        \n",
        "        gw_score = get_score(team_list, gw_df)\n",
        "\n",
        "        \n",
        "        out_list.append(suggested_out)\n",
        "        in_list.append(suggested_in)\n",
        "        score_list.append(gw_score)\n",
        "        \n",
        "        total_score += gw_score\n",
        "        \n",
        "    out_df = pd.DataFrame({'GW': gw_list,\n",
        "                          'player_in': in_list,\n",
        "                          'player_out': out_list,\n",
        "                          'total_score': score_list})\n",
        "    \n",
        "    print(total_score)\n",
        "    \n",
        "    return(out_df)"
      ]
    },
    {
      "cell_type": "code",
      "execution_count": null,
      "metadata": {
        "trusted": true,
        "id": "zGUrn828M7QF"
      },
      "outputs": [],
      "source": [
        "## Get predictions for the two best models, Linear Regression and XGBoost\n",
        "\n",
        "lin_reg = LinearRegression()\n",
        "lin_reg.fit(X_train_no_na, y_train_no_na)\n",
        "linreg_predictions = lin_reg.predict(X_test_no_na)\n",
        "\n",
        "\n",
        "xgb_best.fit(X_train, y_train)\n",
        "xgb_predictions = xgb_best.predict(X_test)"
      ]
    },
    {
      "cell_type": "code",
      "execution_count": null,
      "metadata": {
        "trusted": true,
        "id": "YxJwoo4-M7QF"
      },
      "outputs": [],
      "source": [
        "predicted_df_lin_reg = make_predicted_table(y_test_no_na, linreg_predictions, test_df_no_na[relevant_features + ['full_name', 'GW', 'player_team_name', 'total_points']] )\n",
        "predicted_df_xgb = make_predicted_table(y_test, xgb_predictions, test_df[relevant_features + ['full_name', 'GW', 'player_team_name', 'total_points']] )"
      ]
    },
    {
      "cell_type": "markdown",
      "metadata": {
        "id": "PEHN_ECaM7QF"
      },
      "source": [
        "# Model comparison\n",
        "\n",
        "First, a reminder of the total points that would have been obtained without any transfers:"
      ]
    },
    {
      "cell_type": "code",
      "execution_count": null,
      "metadata": {
        "trusted": true,
        "colab": {
          "base_uri": "https://localhost:8080/"
        },
        "id": "IFPa0dqCM7QG",
        "outputId": "b89ebe1a-8ba7-4b40-ac6c-a637031fdc67"
      },
      "outputs": [
        {
          "output_type": "stream",
          "name": "stdout",
          "text": [
            "Total points for 19/20 season: 1792\n"
          ]
        }
      ],
      "source": [
        "captain = get_initial_team(prob, previous_season_player_df).sort_values(\"total_points\", ascending=False).head(1).full_name.values[0]\n",
        "\n",
        "total_points = current_season_player_df[current_season_player_df.full_name.isin(initial_team_df.full_name)].total_points.sum()\n",
        "total_points += current_season_player_df[current_season_player_df.full_name==captain].total_points\n",
        "\n",
        "print(\"Total points for 19/20 season:\", total_points.values[0])"
      ]
    },
    {
      "cell_type": "code",
      "execution_count": null,
      "metadata": {
        "trusted": true,
        "colab": {
          "base_uri": "https://localhost:8080/"
        },
        "id": "qkr0mCmLM7QG",
        "outputId": "cbd8099a-8bdb-4167-a378-825b99b801b0"
      },
      "outputs": [
        {
          "output_type": "stream",
          "name": "stdout",
          "text": [
            "2078\n"
          ]
        }
      ],
      "source": [
        "## Linear regression\n",
        "\n",
        "my_team = list(initial_team_df.full_name)\n",
        "gameweeks = (test_df.GW).unique()\n",
        "starting_money = 1000 - bench_cost - initial_team_df.starting_cost.sum()\n",
        "\n",
        "lin_reg_perf = get_performance(my_team, starting_money, gameweeks,\n",
        "                   predicted_df_lin_reg)"
      ]
    },
    {
      "cell_type": "markdown",
      "metadata": {
        "id": "lWvQJAy8M7QG"
      },
      "source": [
        "The linear regression model gives a end-of-season score of 2078. Linear regression shows a huge improvement of 286 points! This corresponds to a ranking in about the top 18% of all managers. Great improvement from 57% just with a simple linear regression model! \n",
        "\n",
        "What about XGBoost?"
      ]
    },
    {
      "cell_type": "code",
      "execution_count": null,
      "metadata": {
        "trusted": true,
        "colab": {
          "base_uri": "https://localhost:8080/"
        },
        "id": "mmbdKCUTM7QH",
        "outputId": "a1d8229c-8e5b-4806-e3c4-f8e691a41bac"
      },
      "outputs": [
        {
          "output_type": "stream",
          "name": "stdout",
          "text": [
            "2180\n"
          ]
        }
      ],
      "source": [
        "## XGBoost\n",
        "\n",
        "\n",
        "my_team = list(initial_team_df.full_name)\n",
        "gameweeks = (test_df.GW).unique()\n",
        "starting_money = 1000 - bench_cost - initial_team_df.starting_cost.sum()\n",
        "\n",
        "xgb_cv_perf = get_performance(my_team, starting_money, gameweeks,\n",
        "                   predicted_df_xgb)"
      ]
    },
    {
      "cell_type": "markdown",
      "metadata": {
        "id": "ZuHgsptsM7QH"
      },
      "source": [
        "The XGBoost model gives a end-of-season score of 2180. A more modest, but still substantial, improvement over the linear regression model. This corresponds to a ranking in about the top 5% of all managers . XGBoost allowed the team to climb more than 12% ranking points compared to linear regression! \n"
      ]
    },
    {
      "cell_type": "code",
      "execution_count": null,
      "metadata": {
        "trusted": true,
        "colab": {
          "base_uri": "https://localhost:8080/",
          "height": 1000
        },
        "id": "2jSf_AmEM7QH",
        "outputId": "d86c7dc5-1a99-4204-c125-7d4d5dab0811"
      },
      "outputs": [
        {
          "output_type": "execute_result",
          "data": {
            "text/plain": [
              "    GW                                player_in  \\\n",
              "0    1                                            \n",
              "1    2  bernardo_mota_veiga_de_carvalho_e_silva   \n",
              "2    3                                            \n",
              "3    4                                            \n",
              "4    5                          marcus_rashford   \n",
              "5    6                          kevin_de_bruyne   \n",
              "6    7                            tammy_abraham   \n",
              "7    8                               harry_kane   \n",
              "8    9                            bamidele_alli   \n",
              "9   10                          roberto_firmino   \n",
              "10  11                pierre_emerick_aubameyang   \n",
              "11  12                            heung_min_son   \n",
              "12  13                      alexandre_lacazette   \n",
              "13  14                          roberto_firmino   \n",
              "14  15                          marcus_rashford   \n",
              "15  16                        toby_alderweireld   \n",
              "16  17                            mohamed_salah   \n",
              "17  18                              kyle_walker   \n",
              "18  19                   richarlison_de_andrade   \n",
              "19  20                      alexandre_lacazette   \n",
              "20  21                             riyad_mahrez   \n",
              "21  22                              jamie_vardy   \n",
              "22  23                          gerard_deulofeu   \n",
              "23  24                            tammy_abraham   \n",
              "24  25                              jamie_vardy   \n",
              "25  26                pierre_emerick_aubameyang   \n",
              "26  27                          anthony_martial   \n",
              "27  28                    dominic_calvert_lewin   \n",
              "28  29                            marcos_alonso   \n",
              "29  39                          raheem_sterling   \n",
              "30  40                               sadio_mane   \n",
              "31  41                          kevin_de_bruyne   \n",
              "32  42                               harry_kane   \n",
              "33  43                             riyad_mahrez   \n",
              "34  44                            mohamed_salah   \n",
              "35  45                             nicolas_pepe   \n",
              "36  46                          raheem_sterling   \n",
              "37  47                          kevin_de_bruyne   \n",
              "\n",
              "                                 player_out  total_score  \n",
              "0                                                     82  \n",
              "1                               ryan_fraser           40  \n",
              "2                                                     52  \n",
              "3                                                     53  \n",
              "4                             callum_wilson           58  \n",
              "5                           raheem_sterling           79  \n",
              "6                 pierre_emerick_aubameyang           43  \n",
              "7                             tammy_abraham           31  \n",
              "8                             mohamed_salah           56  \n",
              "9                           marcus_rashford           40  \n",
              "10                               harry_kane           40  \n",
              "11                         gylfi_sigurdsson           39  \n",
              "12                          roberto_firmino           58  \n",
              "13                      alexandre_lacazette           75  \n",
              "14                          roberto_firmino           51  \n",
              "15                          aymeric_laporte           66  \n",
              "16  bernardo_mota_veiga_de_carvalho_e_silva           73  \n",
              "17               david_luiz_moreira_marinho           20  \n",
              "18                            heung_min_son           60  \n",
              "19                          marcus_rashford           59  \n",
              "20                   richarlison_de_andrade           56  \n",
              "21                      alexandre_lacazette           68  \n",
              "22                pierre_emerick_aubameyang           53  \n",
              "23                              jamie_vardy           76  \n",
              "24                            tammy_abraham           64  \n",
              "25                              jamie_vardy           66  \n",
              "26                            bamidele_alli           61  \n",
              "27                          gerard_deulofeu           18  \n",
              "28                              kyle_walker           47  \n",
              "29                            mohamed_salah           81  \n",
              "30                          kevin_de_bruyne           76  \n",
              "31                             riyad_mahrez           71  \n",
              "32                pierre_emerick_aubameyang           66  \n",
              "33                               sadio_mane           57  \n",
              "34                          raheem_sterling           54  \n",
              "35                          kevin_de_bruyne           46  \n",
              "36                             nicolas_pepe           65  \n",
              "37                             riyad_mahrez           80  "
            ],
            "text/html": [
              "\n",
              "  <div id=\"df-7a6b86d5-af81-494b-9038-3edfd57b6927\">\n",
              "    <div class=\"colab-df-container\">\n",
              "      <div>\n",
              "<style scoped>\n",
              "    .dataframe tbody tr th:only-of-type {\n",
              "        vertical-align: middle;\n",
              "    }\n",
              "\n",
              "    .dataframe tbody tr th {\n",
              "        vertical-align: top;\n",
              "    }\n",
              "\n",
              "    .dataframe thead th {\n",
              "        text-align: right;\n",
              "    }\n",
              "</style>\n",
              "<table border=\"1\" class=\"dataframe\">\n",
              "  <thead>\n",
              "    <tr style=\"text-align: right;\">\n",
              "      <th></th>\n",
              "      <th>GW</th>\n",
              "      <th>player_in</th>\n",
              "      <th>player_out</th>\n",
              "      <th>total_score</th>\n",
              "    </tr>\n",
              "  </thead>\n",
              "  <tbody>\n",
              "    <tr>\n",
              "      <th>0</th>\n",
              "      <td>1</td>\n",
              "      <td></td>\n",
              "      <td></td>\n",
              "      <td>82</td>\n",
              "    </tr>\n",
              "    <tr>\n",
              "      <th>1</th>\n",
              "      <td>2</td>\n",
              "      <td>bernardo_mota_veiga_de_carvalho_e_silva</td>\n",
              "      <td>ryan_fraser</td>\n",
              "      <td>40</td>\n",
              "    </tr>\n",
              "    <tr>\n",
              "      <th>2</th>\n",
              "      <td>3</td>\n",
              "      <td></td>\n",
              "      <td></td>\n",
              "      <td>52</td>\n",
              "    </tr>\n",
              "    <tr>\n",
              "      <th>3</th>\n",
              "      <td>4</td>\n",
              "      <td></td>\n",
              "      <td></td>\n",
              "      <td>53</td>\n",
              "    </tr>\n",
              "    <tr>\n",
              "      <th>4</th>\n",
              "      <td>5</td>\n",
              "      <td>marcus_rashford</td>\n",
              "      <td>callum_wilson</td>\n",
              "      <td>58</td>\n",
              "    </tr>\n",
              "    <tr>\n",
              "      <th>5</th>\n",
              "      <td>6</td>\n",
              "      <td>kevin_de_bruyne</td>\n",
              "      <td>raheem_sterling</td>\n",
              "      <td>79</td>\n",
              "    </tr>\n",
              "    <tr>\n",
              "      <th>6</th>\n",
              "      <td>7</td>\n",
              "      <td>tammy_abraham</td>\n",
              "      <td>pierre_emerick_aubameyang</td>\n",
              "      <td>43</td>\n",
              "    </tr>\n",
              "    <tr>\n",
              "      <th>7</th>\n",
              "      <td>8</td>\n",
              "      <td>harry_kane</td>\n",
              "      <td>tammy_abraham</td>\n",
              "      <td>31</td>\n",
              "    </tr>\n",
              "    <tr>\n",
              "      <th>8</th>\n",
              "      <td>9</td>\n",
              "      <td>bamidele_alli</td>\n",
              "      <td>mohamed_salah</td>\n",
              "      <td>56</td>\n",
              "    </tr>\n",
              "    <tr>\n",
              "      <th>9</th>\n",
              "      <td>10</td>\n",
              "      <td>roberto_firmino</td>\n",
              "      <td>marcus_rashford</td>\n",
              "      <td>40</td>\n",
              "    </tr>\n",
              "    <tr>\n",
              "      <th>10</th>\n",
              "      <td>11</td>\n",
              "      <td>pierre_emerick_aubameyang</td>\n",
              "      <td>harry_kane</td>\n",
              "      <td>40</td>\n",
              "    </tr>\n",
              "    <tr>\n",
              "      <th>11</th>\n",
              "      <td>12</td>\n",
              "      <td>heung_min_son</td>\n",
              "      <td>gylfi_sigurdsson</td>\n",
              "      <td>39</td>\n",
              "    </tr>\n",
              "    <tr>\n",
              "      <th>12</th>\n",
              "      <td>13</td>\n",
              "      <td>alexandre_lacazette</td>\n",
              "      <td>roberto_firmino</td>\n",
              "      <td>58</td>\n",
              "    </tr>\n",
              "    <tr>\n",
              "      <th>13</th>\n",
              "      <td>14</td>\n",
              "      <td>roberto_firmino</td>\n",
              "      <td>alexandre_lacazette</td>\n",
              "      <td>75</td>\n",
              "    </tr>\n",
              "    <tr>\n",
              "      <th>14</th>\n",
              "      <td>15</td>\n",
              "      <td>marcus_rashford</td>\n",
              "      <td>roberto_firmino</td>\n",
              "      <td>51</td>\n",
              "    </tr>\n",
              "    <tr>\n",
              "      <th>15</th>\n",
              "      <td>16</td>\n",
              "      <td>toby_alderweireld</td>\n",
              "      <td>aymeric_laporte</td>\n",
              "      <td>66</td>\n",
              "    </tr>\n",
              "    <tr>\n",
              "      <th>16</th>\n",
              "      <td>17</td>\n",
              "      <td>mohamed_salah</td>\n",
              "      <td>bernardo_mota_veiga_de_carvalho_e_silva</td>\n",
              "      <td>73</td>\n",
              "    </tr>\n",
              "    <tr>\n",
              "      <th>17</th>\n",
              "      <td>18</td>\n",
              "      <td>kyle_walker</td>\n",
              "      <td>david_luiz_moreira_marinho</td>\n",
              "      <td>20</td>\n",
              "    </tr>\n",
              "    <tr>\n",
              "      <th>18</th>\n",
              "      <td>19</td>\n",
              "      <td>richarlison_de_andrade</td>\n",
              "      <td>heung_min_son</td>\n",
              "      <td>60</td>\n",
              "    </tr>\n",
              "    <tr>\n",
              "      <th>19</th>\n",
              "      <td>20</td>\n",
              "      <td>alexandre_lacazette</td>\n",
              "      <td>marcus_rashford</td>\n",
              "      <td>59</td>\n",
              "    </tr>\n",
              "    <tr>\n",
              "      <th>20</th>\n",
              "      <td>21</td>\n",
              "      <td>riyad_mahrez</td>\n",
              "      <td>richarlison_de_andrade</td>\n",
              "      <td>56</td>\n",
              "    </tr>\n",
              "    <tr>\n",
              "      <th>21</th>\n",
              "      <td>22</td>\n",
              "      <td>jamie_vardy</td>\n",
              "      <td>alexandre_lacazette</td>\n",
              "      <td>68</td>\n",
              "    </tr>\n",
              "    <tr>\n",
              "      <th>22</th>\n",
              "      <td>23</td>\n",
              "      <td>gerard_deulofeu</td>\n",
              "      <td>pierre_emerick_aubameyang</td>\n",
              "      <td>53</td>\n",
              "    </tr>\n",
              "    <tr>\n",
              "      <th>23</th>\n",
              "      <td>24</td>\n",
              "      <td>tammy_abraham</td>\n",
              "      <td>jamie_vardy</td>\n",
              "      <td>76</td>\n",
              "    </tr>\n",
              "    <tr>\n",
              "      <th>24</th>\n",
              "      <td>25</td>\n",
              "      <td>jamie_vardy</td>\n",
              "      <td>tammy_abraham</td>\n",
              "      <td>64</td>\n",
              "    </tr>\n",
              "    <tr>\n",
              "      <th>25</th>\n",
              "      <td>26</td>\n",
              "      <td>pierre_emerick_aubameyang</td>\n",
              "      <td>jamie_vardy</td>\n",
              "      <td>66</td>\n",
              "    </tr>\n",
              "    <tr>\n",
              "      <th>26</th>\n",
              "      <td>27</td>\n",
              "      <td>anthony_martial</td>\n",
              "      <td>bamidele_alli</td>\n",
              "      <td>61</td>\n",
              "    </tr>\n",
              "    <tr>\n",
              "      <th>27</th>\n",
              "      <td>28</td>\n",
              "      <td>dominic_calvert_lewin</td>\n",
              "      <td>gerard_deulofeu</td>\n",
              "      <td>18</td>\n",
              "    </tr>\n",
              "    <tr>\n",
              "      <th>28</th>\n",
              "      <td>29</td>\n",
              "      <td>marcos_alonso</td>\n",
              "      <td>kyle_walker</td>\n",
              "      <td>47</td>\n",
              "    </tr>\n",
              "    <tr>\n",
              "      <th>29</th>\n",
              "      <td>39</td>\n",
              "      <td>raheem_sterling</td>\n",
              "      <td>mohamed_salah</td>\n",
              "      <td>81</td>\n",
              "    </tr>\n",
              "    <tr>\n",
              "      <th>30</th>\n",
              "      <td>40</td>\n",
              "      <td>sadio_mane</td>\n",
              "      <td>kevin_de_bruyne</td>\n",
              "      <td>76</td>\n",
              "    </tr>\n",
              "    <tr>\n",
              "      <th>31</th>\n",
              "      <td>41</td>\n",
              "      <td>kevin_de_bruyne</td>\n",
              "      <td>riyad_mahrez</td>\n",
              "      <td>71</td>\n",
              "    </tr>\n",
              "    <tr>\n",
              "      <th>32</th>\n",
              "      <td>42</td>\n",
              "      <td>harry_kane</td>\n",
              "      <td>pierre_emerick_aubameyang</td>\n",
              "      <td>66</td>\n",
              "    </tr>\n",
              "    <tr>\n",
              "      <th>33</th>\n",
              "      <td>43</td>\n",
              "      <td>riyad_mahrez</td>\n",
              "      <td>sadio_mane</td>\n",
              "      <td>57</td>\n",
              "    </tr>\n",
              "    <tr>\n",
              "      <th>34</th>\n",
              "      <td>44</td>\n",
              "      <td>mohamed_salah</td>\n",
              "      <td>raheem_sterling</td>\n",
              "      <td>54</td>\n",
              "    </tr>\n",
              "    <tr>\n",
              "      <th>35</th>\n",
              "      <td>45</td>\n",
              "      <td>nicolas_pepe</td>\n",
              "      <td>kevin_de_bruyne</td>\n",
              "      <td>46</td>\n",
              "    </tr>\n",
              "    <tr>\n",
              "      <th>36</th>\n",
              "      <td>46</td>\n",
              "      <td>raheem_sterling</td>\n",
              "      <td>nicolas_pepe</td>\n",
              "      <td>65</td>\n",
              "    </tr>\n",
              "    <tr>\n",
              "      <th>37</th>\n",
              "      <td>47</td>\n",
              "      <td>kevin_de_bruyne</td>\n",
              "      <td>riyad_mahrez</td>\n",
              "      <td>80</td>\n",
              "    </tr>\n",
              "  </tbody>\n",
              "</table>\n",
              "</div>\n",
              "      <button class=\"colab-df-convert\" onclick=\"convertToInteractive('df-7a6b86d5-af81-494b-9038-3edfd57b6927')\"\n",
              "              title=\"Convert this dataframe to an interactive table.\"\n",
              "              style=\"display:none;\">\n",
              "        \n",
              "  <svg xmlns=\"http://www.w3.org/2000/svg\" height=\"24px\"viewBox=\"0 0 24 24\"\n",
              "       width=\"24px\">\n",
              "    <path d=\"M0 0h24v24H0V0z\" fill=\"none\"/>\n",
              "    <path d=\"M18.56 5.44l.94 2.06.94-2.06 2.06-.94-2.06-.94-.94-2.06-.94 2.06-2.06.94zm-11 1L8.5 8.5l.94-2.06 2.06-.94-2.06-.94L8.5 2.5l-.94 2.06-2.06.94zm10 10l.94 2.06.94-2.06 2.06-.94-2.06-.94-.94-2.06-.94 2.06-2.06.94z\"/><path d=\"M17.41 7.96l-1.37-1.37c-.4-.4-.92-.59-1.43-.59-.52 0-1.04.2-1.43.59L10.3 9.45l-7.72 7.72c-.78.78-.78 2.05 0 2.83L4 21.41c.39.39.9.59 1.41.59.51 0 1.02-.2 1.41-.59l7.78-7.78 2.81-2.81c.8-.78.8-2.07 0-2.86zM5.41 20L4 18.59l7.72-7.72 1.47 1.35L5.41 20z\"/>\n",
              "  </svg>\n",
              "      </button>\n",
              "      \n",
              "  <style>\n",
              "    .colab-df-container {\n",
              "      display:flex;\n",
              "      flex-wrap:wrap;\n",
              "      gap: 12px;\n",
              "    }\n",
              "\n",
              "    .colab-df-convert {\n",
              "      background-color: #E8F0FE;\n",
              "      border: none;\n",
              "      border-radius: 50%;\n",
              "      cursor: pointer;\n",
              "      display: none;\n",
              "      fill: #1967D2;\n",
              "      height: 32px;\n",
              "      padding: 0 0 0 0;\n",
              "      width: 32px;\n",
              "    }\n",
              "\n",
              "    .colab-df-convert:hover {\n",
              "      background-color: #E2EBFA;\n",
              "      box-shadow: 0px 1px 2px rgba(60, 64, 67, 0.3), 0px 1px 3px 1px rgba(60, 64, 67, 0.15);\n",
              "      fill: #174EA6;\n",
              "    }\n",
              "\n",
              "    [theme=dark] .colab-df-convert {\n",
              "      background-color: #3B4455;\n",
              "      fill: #D2E3FC;\n",
              "    }\n",
              "\n",
              "    [theme=dark] .colab-df-convert:hover {\n",
              "      background-color: #434B5C;\n",
              "      box-shadow: 0px 1px 3px 1px rgba(0, 0, 0, 0.15);\n",
              "      filter: drop-shadow(0px 1px 2px rgba(0, 0, 0, 0.3));\n",
              "      fill: #FFFFFF;\n",
              "    }\n",
              "  </style>\n",
              "\n",
              "      <script>\n",
              "        const buttonEl =\n",
              "          document.querySelector('#df-7a6b86d5-af81-494b-9038-3edfd57b6927 button.colab-df-convert');\n",
              "        buttonEl.style.display =\n",
              "          google.colab.kernel.accessAllowed ? 'block' : 'none';\n",
              "\n",
              "        async function convertToInteractive(key) {\n",
              "          const element = document.querySelector('#df-7a6b86d5-af81-494b-9038-3edfd57b6927');\n",
              "          const dataTable =\n",
              "            await google.colab.kernel.invokeFunction('convertToInteractive',\n",
              "                                                     [key], {});\n",
              "          if (!dataTable) return;\n",
              "\n",
              "          const docLinkHtml = 'Like what you see? Visit the ' +\n",
              "            '<a target=\"_blank\" href=https://colab.research.google.com/notebooks/data_table.ipynb>data table notebook</a>'\n",
              "            + ' to learn more about interactive tables.';\n",
              "          element.innerHTML = '';\n",
              "          dataTable['output_type'] = 'display_data';\n",
              "          await google.colab.output.renderOutput(dataTable, element);\n",
              "          const docLink = document.createElement('div');\n",
              "          docLink.innerHTML = docLinkHtml;\n",
              "          element.appendChild(docLink);\n",
              "        }\n",
              "      </script>\n",
              "    </div>\n",
              "  </div>\n",
              "  "
            ]
          },
          "metadata": {},
          "execution_count": 75
        }
      ],
      "source": [
        "xgb_cv_perf"
      ]
    },
    {
      "cell_type": "markdown",
      "metadata": {
        "id": "zQ8GwGc-M7QN"
      },
      "source": [
        "# Final thoughts\n",
        "\n",
        "As Box once said, \"All models are wrong, but some are useful\". As with all models, we cannot achieve 100% accuracy (ignoring edge cases e.g. a system where the data is deterministic - input of X always gives Y). Models can and do sometimes go wrong, and it would be important to have a human in the loop to determine whether the suggested transfer makes sense or not. For example, the model sometimes makes questionable transfers, such as bringing in Dele Alli for Heung Min Son (Gameweek 28) Nicholas Pepe for Kevin de Bruyne (Gameweek 45). For someone who has been following the 19/20 season, these would raise eyebrows given the excellent form that the \"transferred out\" players were in.  \n",
        "\n",
        "Either way, the final model seems to perform well in the 19/20 season. I am excited to test this out in the 20/21 season, and hopefully make it to the top 1% as predicted!"
      ]
    }
  ],
  "metadata": {
    "kernelspec": {
      "display_name": "Python 3",
      "language": "python",
      "name": "python3"
    },
    "language_info": {
      "codemirror_mode": {
        "name": "ipython",
        "version": 3
      },
      "file_extension": ".py",
      "mimetype": "text/x-python",
      "name": "python",
      "nbconvert_exporter": "python",
      "pygments_lexer": "ipython3",
      "version": "3.10.4"
    },
    "colab": {
      "provenance": []
    }
  },
  "nbformat": 4,
  "nbformat_minor": 0
}